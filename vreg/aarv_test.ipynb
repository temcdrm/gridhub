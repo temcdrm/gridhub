{
 "cells": [
  {
   "cell_type": "markdown",
   "id": "1a0f8a0b-f2f8-4aa1-b339-4d954f0978cb",
   "metadata": {},
   "source": [
    "# Autonomously Adjusting Reference Voltage Tests\n",
    "The purpose of autonomously adjusting reference voltage (AARV) is to mitigate rapid voltage change (RVC), without affecting the utility’s control of steady-state voltage or the DER’s steady-state reactive power.  AARV may be used with a volt-watt function that mitigates steady-state overvoltage, but otherwise AARV does not regulate steady-state voltage."
   ]
  },
  {
   "cell_type": "markdown",
   "id": "cbed5d18-45d7-4b35-abe1-e0b246506e0f",
   "metadata": {},
   "source": [
    "## Code Samples\n",
    "\n",
    "There are Python code cells in this notebook that create plots and text outputs to illustrate various points of application, implementation, and testing. A live version of this notebook is available at [gridhub](https://github.com/temcdrm/gridhub), under an open-source license and copyright that permit reuse and modification. Run the following Python code cell to define support functions using [Numpy](https://numpy.org/) and [Matplotlib](https://matplotlib.org/)."
   ]
  },
  {
   "cell_type": "code",
   "execution_count": null,
   "id": "7d58f38a",
   "metadata": {
    "jupyter": {
     "source_hidden": true
    }
   },
   "outputs": [],
   "source": [
    "import sys\n",
    "import os\n",
    "import matplotlib.pyplot as plt\n",
    "import numpy as np\n",
    "import math\n",
    "\n",
    "# convert center (Vref), deadband, slope, q limits, and q bias into a table of V and Q points.\n",
    "# the function returns two arrays for the V and Q points\n",
    "#    the arrays have sentinel elements below V1 and above V4, so they are 6 elements long (not 4)\n",
    "#    the sentinel elements clarify that constant extrapolation is used outside the range [V1..V4]\n",
    "#    this version of the function does not check any limits - the caller must do that\n",
    "def set_characteristic (Vref=1.0, deadband=0.0, slope=22.0, qmax=0.44, qmin=-0.44, qbias=0.0):\n",
    "  Q1 = qmax\n",
    "  Q2 = qbias\n",
    "  Q3 = qbias\n",
    "  Q4 = qmin\n",
    "  V2 = Vref - 0.5 * deadband\n",
    "  V3 = Vref + 0.5 * deadband\n",
    "  V1 = V2 - (Q1 - Q2) / slope\n",
    "  V4 = V3 - (Q4 - Q3) / slope\n",
    "  VL = V1 - 0.01\n",
    "  VH = V4 + 0.01\n",
    "  vtable = np.array ([VL, V1, V2, V3, V4, VH])\n",
    "  qtable = np.array ([Q1, Q1, Q2, Q3, Q4, Q4])\n",
    "  return vtable, qtable\n",
    "\n",
    "# This function plots a volt-var characteristic, and returns the VQ points. \n",
    "# (Tabular display is not needed in this notebook.)\n",
    "def show_characteristic (label, Vref, deadband, slope, qmax, qmin, qbias=0):\n",
    "  vtable, qtable = set_characteristic (Vref, deadband, slope, qmax, qmin, qbias)\n",
    "  \n",
    "  # bounds for plotting the horizontal axis\n",
    "  vmin = vtable[0]-0.01\n",
    "  vmax = vtable[-1]+0.01\n",
    "  \n",
    "  # evaluate the characteristic over 500 equal voltage intervals\n",
    "  v = np.linspace (vmin, vmax, 501)\n",
    "  # interpolating Q using the numpy library function\n",
    "  q = np.interp (v, vtable, qtable)\n",
    "  \n",
    "  # create the plot\n",
    "  fig, ax = plt.subplots(1, 1, figsize=(6,4), tight_layout=True)\n",
    "  fig.suptitle ('{:s} volt-var characteristic'.format (label))\n",
    "  ax.plot (vtable, qtable, marker='o', color='blue', label='Points and Sentinels')\n",
    "  ax.plot (v, q, color='red', label='Interpolated')\n",
    "  ax.grid ()\n",
    "  ax.set_xlabel ('V [pu]')\n",
    "  ax.set_ylabel ('Q [pu]')\n",
    "  ax.set_xlim (vmin, vmax)\n",
    "  ax.legend ()\n",
    "  \n",
    "  plt.show ()\n",
    "  return vtable, qtable\n",
    "\n",
    "# This function calculates V and dV at the POC from the formula\n",
    "# in clause 5.1.2 of IEEE 1547.2-2023\n",
    "# All input and output in per-unit\n",
    "def get_voltage (rpu, xpu, dP, dQ, vsrcpu):\n",
    "  a1 = vsrcpu*vsrcpu + rpu*dP + xpu*dQ\n",
    "  a2 = xpu*dP - rpu*dQ\n",
    "  d = math.sqrt (a1*a1 + a2*a2) / vsrcpu / vsrcpu - 1.0\n",
    "  vpu = vsrcpu + d\n",
    "  return vpu, d\n",
    "\n",
    "# use the current directory as default location for the \"save plot\" buttons\n",
    "# optimize the graphic export for LaTex and PDF\n",
    "plt.rcParams['savefig.directory'] = os.getcwd()\n",
    "plt.rcParams['savefig.pad_inches'] = 0.05\n",
    "plt.rcParams['savefig.dpi'] = 300.0\n",
    "plt.rcParams['savefig.bbox'] = 'tight'\n",
    "# invoke the Jupyter support for  Matplotlib graphics\n",
    "%matplotlib widget"
   ]
  },
  {
   "cell_type": "markdown",
   "id": "a068188b-267a-48d9-8447-9d9511d9bca0",
   "metadata": {},
   "source": [
    "## AARV Test from 1547.1-2020\n",
    "\n",
    "Clause 5.14.5 of IEEE 1547.1-2020 describes a specific test for AARV. In all other tests, AARV is to be disabled. Four AARV tests are described, at the time constant values *Tref* = 300s and 5000s, each of those with source voltage steps to (V1+V2)/2 and (V3+V4)/2. Before each voltage step, the steady-state reactive power, Q, should be zero at V=Vref. The volt-var characteristic V1..V4 and Q1..Q4 points are set to the default values.\n",
    "\n",
    "The voltage steps result in step changes of Q to 0.5\\*Q1 and 0.5\\*Q4, respectively, with some delay from the open-loop response. These new Q values should follow an exponential decay back to zero, governed by *Tref* = 300s or 5000s. The test criteria specifies that after one time constant, *Tref*, the value of Q should be less than 10% of Q1 or Q4, respectively. However, this behavior depends on whether the volt-var characteristic includes a deadband.\n",
    "\n",
    "*Tref* is defined as the time constant for AARV reference voltage. On the other hand, *Tresponse* is defined as an open-loop response time, which is converted to an exponential time constant in the Python code below. Furthermore, the simulation is run at a constant time step, *dt*, so both time constants may be implemented as constant decrement factors. If the real hardware controller operates at a constant sample interval, it may also use constant decrement factors to save the time of repeatedly evaluating the exponential functions.\n",
    "\n",
    "Passing this test verifies implementation of *Tref*, but not the impact of AARV on a system with grid impedance.\n",
    "\n",
    "### Simulation of AARV Tests\n",
    "\n",
    "Run the following Python code cell to define a function that simulates and plots an AARV test. The input parameters are:\n",
    "\n",
    "- *tag* is a text label to appear in the plot.\n",
    "- *Vref*, *dB*, *K*, *Qmax*, and *Qmin* are the system parameters to define the volt-var characteristic\n",
    "- *Tref* is the AARV time constant, which ranges from 300s to 5000s. No default value was provided in IEEE 1547, but 300s works well whenever AARV is enabled.\n",
    "- *Tresponse* is the open-loop response time, which ranges from 1s to 90s. The default in IEEE 1547 is 10s for category A and 5s for category B.\n",
    "- *dt* is the time step for simulation and plotting.\n",
    "- *bShiftTable* is a flag to choose between two different implementations of AARV:\n",
    "    - *True* means that the V1..V4 points in the volt-var characteristic are shifted each time *VRef* changes. This procedure strictly follows language in the footnote in IEEE 1547-2018, and it performs as intended in simulation. However, it's not efficient and it may lose track of the original settings for V1..V4.\n",
    "    - *False* means that instead of modifying V1..V4, the voltage used for interpolation is adjusted with an offset to the **original** value of *Vref*, denoted as *Vset* in the code. This method also performs as intended, without regenerating the interpolation table at each time step, and without losing track of the original settings for V1..V4. In the Python function signature, the default value is *False* to indicate that this might be the preferred implementation. (It is also close to the way *OpenDSS* implements AARV).\n",
    " \n",
    "The function runs for one time constant, *Tref*, and it provides numerical outputs of the peak and final Q. The test procedure ensures that limits on *Vref* will be met, so the function does not check the limits during execution."
   ]
  },
  {
   "cell_type": "code",
   "execution_count": null,
   "id": "ff639c8c-1294-4ce8-af59-f798a1b7a19e",
   "metadata": {
    "jupyter": {
     "source_hidden": true
    }
   },
   "outputs": [],
   "source": [
    "def show_aarv_test (tag, Vref, dB, K, Qmax, Qmin, Tref, Tresponse, dt, bShiftTable=False):\n",
    "  TauOL = Tresponse / 2.3026\n",
    "  IncRef = 1.0 - math.exp(-dt/Tref)\n",
    "  IncOL = 1.0 - math.exp(-dt/TauOL)\n",
    "  vtable, qtable = set_characteristic (Vref, dB, K, Qmax, Qmin)\n",
    "\n",
    "  vtest = [(vtable[1]+vtable[2])/2.0, (vtable[3]+vtable[4])/2.0]\n",
    "  qtest = np.interp (vtest, vtable, qtable)\n",
    "\n",
    "  tmax = 1.0 * Tref\n",
    "  t = np.linspace (0, tmax, int(tmax / dt) + 1)\n",
    "  npts = len(t)\n",
    "  v0 = (vtable[1]+vtable[2])/2.0\n",
    "  q0 = np.interp(v0, vtable, qtable)\n",
    "  q = np.zeros(npts)\n",
    "  qpeak = 0.0\n",
    "  # Keep track of the initial Vref setting for 1) bShiftTable=False, and 2) plotting the original volt-var characteristic\n",
    "  Vset = Vref \n",
    "  # print ('       t      Vpu     Vref     Verr    Qtarg        Q')\n",
    "  if bShiftTable: # this approach resets the V1..V4 points each time Vref changes\n",
    "    for i in range(1, npts):\n",
    "      # apply the reference voltage time constant\n",
    "      verr = v0 - Vref\n",
    "      Vref = Vref + verr * IncRef\n",
    "      #######################################################\n",
    "      # calculate Q with shifted interpolation table\n",
    "      vtable, qtable = set_characteristic (Vref=Vref, deadband=dB, slope=K, qmax=Qmax, qmin=Qmin)\n",
    "      qtarg = np.interp (v0, vtable, qtable)\n",
    "      #######################################################\n",
    "      # apply the open-loop response\n",
    "      q[i] = q[i-1] + (qtarg - q[i-1]) * IncOL\n",
    "      if abs(q[i]) > qpeak:\n",
    "        qpeak = abs(q[i])\n",
    "      # print ('{:8.3f} {:8.5f} {:8.5f} {:8.5f} {:8.5f} {:8.5f}'.format (t[i], v0, Vref, verr, qtarg, q[i])) \n",
    "  else: # this approach modifies the voltage entry point\n",
    "    for i in range(1, npts):\n",
    "      # apply the reference voltage time constant\n",
    "      verr = v0 - Vref\n",
    "      Vref = Vref + verr * IncRef\n",
    "      #######################################################\n",
    "      # calculate Q with offset voltage entry point\n",
    "      qtarg = np.interp (v0 + (Vset - Vref), vtable, qtable)\n",
    "      #######################################################\n",
    "      # apply the open-loop response\n",
    "      q[i] = q[i-1] + (qtarg - q[i-1]) * IncOL\n",
    "      if abs(q[i]) > qpeak:\n",
    "        qpeak = abs(q[i])\n",
    "    #print ('{:8.3f} {:8.5f} {:8.5f} {:8.5f} {:8.5f} {:8.5f}'.format (t[i], v0, vref, verr, qtarg, q[i])) \n",
    "\n",
    "#  print ('{:d} test points, IncRef={:.6f}, IncOL={:.6f}, Qpeak={:.3f}, Qend={:.3f}'.format (npts, IncRef, IncOL, qpeak, q[-1]))\n",
    "\n",
    "  fig, ax = plt.subplots(1, 2, sharex = 'col', figsize=(10,4), constrained_layout=True)\n",
    "  fig.suptitle ('1547.1-2020 AARV test, {:s}, Tref={:.1f}, Tresponse={:.1f}, Voltage Step to Vs={:.3f}'.format (tag, Tref, Tresponse, v0))\n",
    "\n",
    "  ax[0].set_title ('Characteristic, K={:.2f}, dB={:.2f}, Qmax={:.2f}'.format (K, dB, Qmax))\n",
    "  # remove any shift of vtable, qtable that might have been done while simulating the test\n",
    "  vtable, qtable = set_characteristic (Vset, dB, K, Qmax, Qmin)\n",
    "  ax[0].plot (vtable, qtable, marker='o', color='blue', label='Points and Sentinels')\n",
    "  ax[0].plot (vtest, qtest, color='red', marker='s', linestyle='None', label='Test Conditions')\n",
    "  ax[0].set_xlabel ('V [pu]')\n",
    "  ax[0].set_xlim (vtable[0]-0.01, vtable[-1]+0.01)\n",
    "  ax[0].legend()\n",
    "\n",
    "  ax[1].set_title ('Peak Q={:.4f}, Final Q={:.4f} pu'.format (qpeak, q[-1]))\n",
    "  ax[1].plot (t, q, color='red', label='Dynamic')\n",
    "  ax[1].plot (t, q0*np.ones(npts), color='blue', label='Qs={:.3f}'.format(q0))\n",
    "  ax[1].set_xlabel ('t [s]')\n",
    "  ax[1].set_xlim (t[0], t[-1])\n",
    "\n",
    "  for i in range(2):\n",
    "    ax[1].legend()\n",
    "    ax[i].grid()\n",
    "    ax[i].set_ylabel ('Q [pu]')\n",
    "\n",
    "  plt.show()"
   ]
  },
  {
   "cell_type": "markdown",
   "id": "6f43397f-8f8d-4dae-bc63-1197430adae8",
   "metadata": {},
   "source": [
    "### Examples of AARV Tests\n",
    "\n",
    "Run the following Python code cell to simulate three example AARV tests. In each test, the voltage steps to (V1+V2)/2. The volt-var characteristic is plotted to the left, and the dynamic response of Q is plotted to the right.\n",
    "\n",
    "- For default Category A, there is no deadband. The steady-state value of Qs would be 0.125 pu, but Q only reaches 0.1174 pu due to the open-loop response time constant. The value of Q at *Tref* is 0.0467 pu, which is 18.68% of Q1, so this result does not pass the test.\n",
    "- For default Category B, there is a deadband. The steady-state value of Qs would be 0.22 pu, but Q only reaches 0.2083 pu due to the open-loop response time constant. The value of Q at *Tref* is 0.0, because the voltage has entered the deadband by that time, so this result passes the test.\n",
    "- For Catagory B with no deadband and maximum slope (or gain), Q reaches 0.2122, considering the open-loop response time constant along with the higher gain. The final value of Q at *Tref* is 0.0815 pu, which is 18.52%, so this result does not pass the test.\n"
   ]
  },
  {
   "cell_type": "code",
   "execution_count": null,
   "id": "2916dc2e-9bcf-4f77-ba40-fa28c92ae439",
   "metadata": {
    "jupyter": {
     "source_hidden": true
    }
   },
   "outputs": [],
   "source": [
    "show_aarv_test ('cat A', Vref=1, dB=0.0, K=2.5, Qmax=0.25, Qmin=-0.25, Tref=300, Tresponse=10, dt=0.1, bShiftTable=True)  # for default category A\n",
    "show_aarv_test ('cat B', Vref=1, dB=0.04, K=22.0/3.0, Qmax=0.44, Qmin=-0.44, Tref=300, Tresponse=5, dt=0.1, bShiftTable=True)  # for default category B\n",
    "show_aarv_test ('cat B', Vref=1, dB=0.0, K=22.0, Qmax=0.44, Qmin=-0.44, Tref=300, Tresponse=5, dt=0.1, bShiftTable=True)  # for steepest, no deadband category B"
   ]
  },
  {
   "cell_type": "markdown",
   "id": "166dbbee-12f0-4f4c-be8a-7a3dff2ee3f2",
   "metadata": {},
   "source": [
    "### Conclusion\n",
    "\n",
    "The test in clause 5.14.5 of IEEE 1547.1-2020 is only passed for the default Category B characteristic. Q decreases to 0 at t=Tref because V is within the deadband by that time, and 0 is less than 10% of Q1. However, with a deadband, the test fails because Q decreases to about 19% of Q1 at t=Tref. This occurs for the default Category A characteristic, and for a higher-gain Category B characteristic with no deadband. Subgroup 7 should review the test specification for correctness.\n",
    "\n",
    "AARV should be used without a deadband, so the Tref test procedure should focus on that use case. All three numbered volt-var characteristics in IEEE 1547.1-2020, in Tables 26-28, include a deadband. There should at least be a test characteristic for Category B without a deadband."
   ]
  },
  {
   "cell_type": "markdown",
   "id": "d6d07a55-3d8b-4896-8dff-363c3e54bf09",
   "metadata": {},
   "source": [
    "## BSD 3-Clause License\n",
    "\n",
    "Copyright (c) 2023-2024, Meltran, Inc\n",
    "\n",
    "Redistribution and use in source and binary forms, with or without\n",
    "modification, are permitted provided that the following conditions are met:\n",
    "\n",
    "1. Redistributions of source code must retain the above copyright notice, this\n",
    "   list of conditions and the following disclaimer.\n",
    "\n",
    "2. Redistributions in binary form must reproduce the above copyright notice,\n",
    "   this list of conditions and the following disclaimer in the documentation\n",
    "   and/or other materials provided with the distribution.\n",
    "\n",
    "3. Neither the name of the copyright holder nor the names of its\n",
    "   contributors may be used to endorse or promote products derived from\n",
    "   this software without specific prior written permission.\n",
    "\n",
    "THIS SOFTWARE IS PROVIDED BY THE COPYRIGHT HOLDERS AND CONTRIBUTORS \"AS IS\"\n",
    "AND ANY EXPRESS OR IMPLIED WARRANTIES, INCLUDING, BUT NOT LIMITED TO, THE\n",
    "IMPLIED WARRANTIES OF MERCHANTABILITY AND FITNESS FOR A PARTICULAR PURPOSE ARE\n",
    "DISCLAIMED. IN NO EVENT SHALL THE COPYRIGHT HOLDER OR CONTRIBUTORS BE LIABLE\n",
    "FOR ANY DIRECT, INDIRECT, INCIDENTAL, SPECIAL, EXEMPLARY, OR CONSEQUENTIAL\n",
    "DAMAGES (INCLUDING, BUT NOT LIMITED TO, PROCUREMENT OF SUBSTITUTE GOODS OR\n",
    "SERVICES; LOSS OF USE, DATA, OR PROFITS; OR BUSINESS INTERRUPTION) HOWEVER\n",
    "CAUSED AND ON ANY THEORY OF LIABILITY, WHETHER IN CONTRACT, STRICT LIABILITY,\n",
    "OR TORT (INCLUDING NEGLIGENCE OR OTHERWISE) ARISING IN ANY WAY OUT OF THE USE\n",
    "OF THIS SOFTWARE, EVEN IF ADVISED OF THE POSSIBILITY OF SUCH DAMAGE."
   ]
  },
  {
   "cell_type": "code",
   "execution_count": null,
   "id": "b1530e8f-3958-4c56-85c5-e0b374fbf92f",
   "metadata": {
    "jupyter": {
     "source_hidden": true
    }
   },
   "outputs": [],
   "source": []
  }
 ],
 "metadata": {
  "kernelspec": {
   "display_name": "Python 3 (ipykernel)",
   "language": "python",
   "name": "python3"
  },
  "language_info": {
   "codemirror_mode": {
    "name": "ipython",
    "version": 3
   },
   "file_extension": ".py",
   "mimetype": "text/x-python",
   "name": "python",
   "nbconvert_exporter": "python",
   "pygments_lexer": "ipython3",
   "version": "3.9.6"
  }
 },
 "nbformat": 4,
 "nbformat_minor": 5
}
