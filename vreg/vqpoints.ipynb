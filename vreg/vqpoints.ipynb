{
 "cells": [
  {
   "cell_type": "markdown",
   "id": "e3e44eb8-a558-4f11-a97e-885d99260cd8",
   "metadata": {},
   "source": [
    "This notebook illustrates the conversion of system-oriented volt-var function parameters, e.g., slope (gain) and deadband, into the standard table of V1..V4, Q1..Q4 points as defined in IEEE 1547-2018."
   ]
  },
  {
   "cell_type": "markdown",
   "id": "da76ea37-f89b-4fab-82fd-f812133d2f25",
   "metadata": {},
   "source": [
    "Run the following cell to define the plot and table functions using [Matplotlib](https://matplotlib.org/)"
   ]
  },
  {
   "cell_type": "code",
   "execution_count": null,
   "id": "7d58f38a",
   "metadata": {},
   "outputs": [],
   "source": [
    "import sys\n",
    "import os\n",
    "import matplotlib.pyplot as plt\n",
    "import numpy as np\n",
    "import math\n",
    "\n",
    "# convert center, deadband, slope, and q limits into a table of V and Q points.\n",
    "# the function returns two arrays for the V and Q points\n",
    "#    the arrays have sentinel elements below V1 and above V4, so they are 6 elements long (not 4)\n",
    "#    the sentinel elements clarify that constant extrapolation is used outside the range [V1..V4]\n",
    "def set_characteristic (center=1.0, deadband=0.0, slope=22.0, qmax=0.44, qmin=-0.44):\n",
    "#    Vreg = center\n",
    "  Q1 = qmax\n",
    "  Q2 = 0.0\n",
    "  Q3 = 0.0\n",
    "  Q4 = qmin\n",
    "  V2 = center - 0.5 * deadband\n",
    "  V3 = center + 0.5 * deadband\n",
    "  V1 = V2 - Q1 / slope\n",
    "  V4 = V3 - Q4 / slope\n",
    "  VL = V1 - 0.01 # min (V1, 0.95)\n",
    "  VH = V4 + 0.01 # max (V4, 1.05)\n",
    "  vtable = np.array ([VL, V1, V2, V3, V4, VH])\n",
    "  qtable = np.array ([Q1, Q1, Q2, Q3, Q4, Q4])\n",
    "  return vtable, qtable\n",
    "\n",
    "# this function plots and tabulates a volt-var characteristic\n",
    "def show_characteristic (label, center, deadband, slope, qmax, qmin):\n",
    "  vtable, qtable = set_characteristic (center, deadband, slope, qmax, qmin)\n",
    "  \n",
    "  # bounds for plotting the horizontal axis\n",
    "  vmin = vtable[0]-0.01\n",
    "  vmax = vtable[-1]+0.01\n",
    "  \n",
    "  # evaluate the characteristic over 500 equal voltage intervals\n",
    "  v = np.linspace (vmin, vmax, 501)\n",
    "  # interpolating Q using the numpy library function\n",
    "  q = np.interp (v, vtable, qtable)\n",
    "  \n",
    "  # create the plot\n",
    "  fig, ax = plt.subplots(1, 1, sharex = 'col', figsize=(8,4), constrained_layout=True)\n",
    "  fig.suptitle ('{:s} volt-var characteristic'.format (label))\n",
    "  ax.plot (vtable, qtable, marker='o', color='blue', label='Points and Sentinels')\n",
    "  ax.plot (v, q, color='red', label='Interpolated')\n",
    "  ax.grid ()\n",
    "  ax.set_xlabel ('V [pu]')\n",
    "  ax.set_ylabel ('Q [pu]')\n",
    "  ax.set_xlim (vmin, vmax)\n",
    "  ax.legend ()\n",
    "  \n",
    "  # create the data table with 3 columns\n",
    "  cellText = []\n",
    "  cellText.append (['INPUTS', '', ''])\n",
    "  cellText.append (['center', '{:.3f}'.format (center), ''])\n",
    "  cellText.append (['deadband', '{:.3f}'.format (deadband), ''])\n",
    "  cellText.append (['slope', '{:.3f}'.format (slope), ''])\n",
    "  cellText.append (['Qmax', '{:.3f}'.format (qmax), ''])\n",
    "  cellText.append (['Qmin', '{:.3f}'.format (qmin), ''])\n",
    "  cellText.append (['', '', ''])\n",
    "  cellText.append (['TABLE', 'V', 'Q'])\n",
    "  for i in range(4):\n",
    "    cellText.append (['{:d}'.format(i+1), '{:.3f}'.format(vtable[i+1]), '{:.3f}'.format(qtable[i+1])])\n",
    "  cwidth = 0.15\n",
    "  plt.table (cellText=cellText, cellLoc='center', colWidths=[cwidth, cwidth, cwidth], loc='right')\n",
    "\n",
    "  plt.show ()\n",
    "\n",
    "# use the current directory as default location for the \"save plot\" buttons\n",
    "plt.rcParams['savefig.directory'] = os.getcwd()\n",
    "# invoke the Jupyter support for  Matplotlib graphics\n",
    "%matplotlib widget\n"
   ]
  },
  {
   "cell_type": "markdown",
   "id": "b4dfd52e-e64a-4c7a-8a46-559169f7e992",
   "metadata": {},
   "source": [
    "Run the following cell to show several volt-var characteristics of interest."
   ]
  },
  {
   "cell_type": "code",
   "execution_count": null,
   "id": "94b9ccbc-6308-4c6e-8ebd-bb435985c0b4",
   "metadata": {},
   "outputs": [],
   "source": [
    "show_characteristic ('Default category A',    center=1.0, deadband=0.0,  slope=2.5,      qmax=0.25, qmin=-0.25)\n",
    "show_characteristic ('Aggressive category A', center=1.0, deadband=0.0,  slope=12.5,     qmax=0.25, qmin=-0.25)\n",
    "show_characteristic ('Default category B',    center=1.0, deadband=0.04, slope=22.0/3.0, qmax=0.44, qmin=-0.44)\n",
    "show_characteristic ('Aggressive category B', center=1.0, deadband=0.0,  slope=22.0,     qmax=0.44, qmin=-0.44)\n",
    "show_characteristic ('Hawaii Rule 14H',       center=1.0, deadband=0.06, slope=43.0/3.0, qmax=0.44, qmin=-0.44)\n"
   ]
  },
  {
   "cell_type": "code",
   "execution_count": null,
   "id": "c651faa2-6a14-4aa1-8cc8-dbb024ac36b2",
   "metadata": {},
   "outputs": [],
   "source": []
  }
 ],
 "metadata": {
  "kernelspec": {
   "display_name": "Python 3 (ipykernel)",
   "language": "python",
   "name": "python3"
  },
  "language_info": {
   "codemirror_mode": {
    "name": "ipython",
    "version": 3
   },
   "file_extension": ".py",
   "mimetype": "text/x-python",
   "name": "python",
   "nbconvert_exporter": "python",
   "pygments_lexer": "ipython3",
   "version": "3.11.4"
  }
 },
 "nbformat": 4,
 "nbformat_minor": 5
}
