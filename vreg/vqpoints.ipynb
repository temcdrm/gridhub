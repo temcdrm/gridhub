{
 "cells": [
  {
   "cell_type": "markdown",
   "id": "e3e44eb8-a558-4f11-a97e-885d99260cd8",
   "metadata": {},
   "source": [
    "# System Volt-Var Parameters in IEEE 1547 Format\n",
    "\n",
    "This notebook illustrates the conversion of system-oriented volt-var function parameters, e.g., slope (gain) and deadband, into the standard table of V1..V4, Q1..Q4 points as defined in IEEE 1547-2018. There are Python code cells in the notebook that create plots and tables to illustrate various points of application and implementation. A live version of this notebook is available at [gridhub](https://github.com/temcdrm/gridhub), under an open-source license and copyright that permit reuse and modification."
   ]
  },
  {
   "cell_type": "markdown",
   "id": "da76ea37-f89b-4fab-82fd-f812133d2f25",
   "metadata": {},
   "source": [
    "Run the following Python code cell to define the plot and table functions using [Matplotlib](https://matplotlib.org/). In this version of *set_characteristic*:\n",
    "\n",
    "- *Vref* is the center point of the volt-var characteristic, equal to 1 per-unit of the nominal voltage, which is denoted *VN* in the standard. *Vref* must lie in the range 0.95 to 1.05.\n",
    "- *deadband* must be zero for category A DER, for which V2 = V3 = *Vref*. The maximum *deadband* for category B is 0.06 pu, due to limits on V2 and V3.\n",
    "- The standard imposes additional constraints, not all of which are checked in this function. For example, the caller could specify non-zero *deadband* for category A, or *slope* higher than allowed by constraints on V1 and V4."
   ]
  },
  {
   "cell_type": "code",
   "execution_count": null,
   "id": "7d58f38a",
   "metadata": {},
   "outputs": [],
   "source": [
    "import sys\n",
    "import os\n",
    "import matplotlib.pyplot as plt\n",
    "import numpy as np\n",
    "import math\n",
    "\n",
    "# convert center (Vref), deadband, slope, q limits, and qbias into a table of V and Q points.\n",
    "# the function returns two arrays for the V and Q points\n",
    "#    the arrays have sentinel elements below V1 and above V4, so they are 6 elements long (not 4)\n",
    "#    the sentinel elements clarify that constant extrapolation is used outside the range [V1..V4]\n",
    "def set_characteristic (Vref=1.0, deadband=0.0, slope=22.0, qmax=0.44, qmin=-0.44, qbias=0.0):\n",
    "  if Vref < 0.95:  # standard imposes constraints on Vref\n",
    "    print ('Vref ({:.4f}) is too low, correcting to 0.95'.format (Vref))\n",
    "    Vref = 0.95\n",
    "  elif Vref > 1.05:\n",
    "    print ('Vref ({:.4f}) is too high, correcting to 1.05'.format (Vref))\n",
    "    Vref = 1.05\n",
    "  if qbias > qmax: # limit on steady-state reactive power\n",
    "    print ('Qbias ({:.4f}) is too high, correcting to {:.4f}'.format (qbias, qmax))\n",
    "    qbias = qmax\n",
    "  elif qbias < qmin:\n",
    "    print ('Qbias ({:.4f}) is too low, correcting to {:.4f}'.format (qbias, qmin))\n",
    "    qbias = qmin\n",
    "  if deadband < 0.0: # limit on deadband for category B\n",
    "    print ('deadband ({:.4f}) is too low, correcting to 0.0'.format (deadband))\n",
    "    deadband = 0.0\n",
    "  elif deadband > 0.06:\n",
    "    print ('deadband ({:.4f}) is too high for category B, correcting to 0.06'.format (deadband))\n",
    "    deadband = 0.06\n",
    "  Q1 = qmax\n",
    "  Q2 = qbias\n",
    "  Q3 = qbias\n",
    "  Q4 = qmin\n",
    "  V2 = Vref - 0.5 * deadband\n",
    "  V3 = Vref + 0.5 * deadband\n",
    "  V1 = V2 - (Q1 - Q2) / slope\n",
    "  V4 = V3 - (Q4 - Q3) / slope\n",
    "  VL = V1 - 0.01\n",
    "  VH = V4 + 0.01\n",
    "  vtable = np.array ([VL, V1, V2, V3, V4, VH])\n",
    "  qtable = np.array ([Q1, Q1, Q2, Q3, Q4, Q4])\n",
    "  return vtable, qtable\n",
    "\n",
    "# this function plots and tabulates a volt-var characteristic\n",
    "def show_characteristic (label, Vref, deadband, slope, qmax, qmin, qbias=0.0):\n",
    "  vtable, qtable = set_characteristic (Vref, deadband, slope, qmax, qmin, qbias)\n",
    "  \n",
    "  # bounds for plotting the horizontal axis\n",
    "  vmin = vtable[0]-0.01\n",
    "  vmax = vtable[-1]+0.01\n",
    "  \n",
    "  # evaluate the characteristic over 500 equal voltage intervals\n",
    "  v = np.linspace (vmin, vmax, 501)\n",
    "  # interpolating Q using the numpy library function\n",
    "  q = np.interp (v, vtable, qtable)\n",
    "  \n",
    "  # create the plot\n",
    "  fig, ax = plt.subplots(1, 1, figsize=(9,4), tight_layout=True)\n",
    "  fig.suptitle ('{:s} volt-var characteristic'.format (label))\n",
    "  \n",
    "  ax.plot (vtable, qtable, marker='o', color='blue', label='Points and Sentinels')\n",
    "  ax.plot (v, q, color='red', label='Interpolated')\n",
    "  ax.grid ()\n",
    "  ax.set_xlabel ('V [pu]')\n",
    "  ax.set_ylabel ('Q [pu]')\n",
    "  ax.set_xlim (vmin, vmax)\n",
    "  ax.legend ()\n",
    "  \n",
    "  # create the data table with 3 columns\n",
    "  cellText = []\n",
    "  cellText.append (['INPUTS', '', ''])\n",
    "  cellText.append (['Vref', '{:.3f}'.format (Vref), ''])\n",
    "  cellText.append (['deadband', '{:.3f}'.format (deadband), ''])\n",
    "  cellText.append (['slope', '{:.3f}'.format (slope), ''])\n",
    "  cellText.append (['Qmax', '{:.3f}'.format (qmax), ''])\n",
    "  cellText.append (['Qmin', '{:.3f}'.format (qmin), ''])\n",
    "  cellText.append (['Qbias', '{:.3f}'.format (qbias), ''])\n",
    "  cellText.append (['', '', ''])\n",
    "  cellText.append (['TABLE', 'V', 'Q'])\n",
    "  for i in range(4):\n",
    "    cellText.append (['{:d}'.format(i+1), '{:.3f}'.format(vtable[i+1]), '{:.3f}'.format(qtable[i+1])])\n",
    "  cwidth = 0.2\n",
    "  plt.table (cellText=cellText, cellLoc='center', colWidths=[cwidth, cwidth, cwidth], loc='right')\n",
    "\n",
    "  plt.show ()\n",
    "\n",
    "# use the current directory as default location for the \"save plot\" buttons\n",
    "# optimize the graphic export for LaTex and PDF\n",
    "plt.rcParams['savefig.directory'] = os.getcwd()\n",
    "plt.rcParams['savefig.pad_inches'] = 0.05\n",
    "plt.rcParams['savefig.dpi'] = 300.0\n",
    "plt.rcParams['savefig.bbox'] = 'tight'\n",
    "# invoke the Jupyter support for  Matplotlib graphics\n",
    "%matplotlib widget\n"
   ]
  },
  {
   "cell_type": "markdown",
   "id": "b4dfd52e-e64a-4c7a-8a46-559169f7e992",
   "metadata": {},
   "source": [
    "## Examples\n",
    "\n",
    "Run the following Python code cell to show several volt-var characteristics of interest. The red lines are created from a one-line call to the linear interpolation function in Numpy, using the blue V, Q points for interpolation control. To the right of each graph, the system input parameters and resulting V, Q points are tabulated. As noted in the Python code comments, there are \"sentinel\" points below V1 and above V4, but these are only used for visual clarity and not included in the table. Constant extrapolation of Q applies below V1 and above V4.\n",
    "\n",
    "- *Default category A* has no deadband, and a gentle implied slope (gain) of 2.5.\n",
    "- *Aggressive category A* has the maximum allowed slope for category A, 12.5, based on the ranges of adjustability in the table points. In another notebook, this characteristic will be used with autonomously adjusting reference voltage (AARV) for DER in category A.\n",
    "- *Default category B* has a deadband with implied slope of 7.333.\n",
    "- *Aggressive category B* has the maximum allowed slope for category B, 22.0, based on the ranges of adjustability in the table points. The deadband is also set to zero. In another notebook, this characteristic will be used with autonomously adjusting reference voltage (AARV) for DER in category B.\n",
    "- *Hawaii Rule 14H* has a voltage deadband of 0.06 pu around the center point (*Vref*) of 1.0 pu. This characteristic is designed to mitigate steady-state overvoltage by absorbing reactive power when the voltage is in a range 1.03 - 1.06 pu. Above 1.06 pu, a volt-watt function (not shown) begins to curtail real power output. For voltages below 0.97 pu, the DER will supply reactive power to help mitigate undervoltage."
   ]
  },
  {
   "cell_type": "code",
   "execution_count": null,
   "id": "94b9ccbc-6308-4c6e-8ebd-bb435985c0b4",
   "metadata": {},
   "outputs": [],
   "source": [
    "show_characteristic ('Default category A',    Vref=1.0, deadband=0.0,  slope=2.5,      qmax=0.25, qmin=-0.25)\n",
    "show_characteristic ('Aggressive category A', Vref=1.0, deadband=0.0,  slope=12.5,     qmax=0.25, qmin=-0.25)\n",
    "show_characteristic ('Default category B',    Vref=1.0, deadband=0.04, slope=22.0/3.0, qmax=0.44, qmin=-0.44)\n",
    "show_characteristic ('Aggressive category B', Vref=1.0, deadband=0.0,  slope=22.0,     qmax=0.44, qmin=-0.44)\n",
    "show_characteristic ('Hawaii Rule 14H',       Vref=1.0, deadband=0.06, slope=43.0/3.0, qmax=0.44, qmin=-0.44)\n"
   ]
  },
  {
   "cell_type": "markdown",
   "id": "7b36c9cd-6a2d-4cc1-846e-67fe76db40cf",
   "metadata": {},
   "source": [
    "## Examples with *Qbias*\n",
    "\n",
    "Within the scope of IEEE 1547-2018, the table of points may also be shifted with a reactive power bias level, *Qbias*. This has the effect of implementing a constant Q mode, modified by a volt-var response to voltage deviations. This allows DER to participate in steady-state grid voltage control as a reactive power resource, dispatched like shunt capacitors or reactors, but still responding autonomously to local voltage excursions.\n",
    "\n",
    "Run the following Python code cell to repeat the preceding five example volt-var characteristics, with positive (capacitive) and negative (inductive) bias levels for steady-state reactive power from the DER. In all cases, *Qbias* is 0.1 pu of the DER rating. This bias point is plotted in blue at V=1.00 pu, but it's no longer centered on the horizontal axis.  The intervals V2-V1 and V4-V3 are no longer equal, but they define equal regulation slopes that terminate properly on (V1, Q1) and (V4, Q4). In another workbook, it will be shown that after a voltage fluctuation, the steady-state reactive power will depend on whether AARV has been enabled. With AARV, Q will eventually return to *Qbias* but without AARV, Q will remain at a different value when the voltage remains outside the fixed deadband.\n",
    "\n",
    "- *Default Category A* has no deadband, so Q is usually not equal to *Qbias*. The red characteristics crosses the horizontal axis at V = 1.0 +/- *Qbias* / *slope* = 1.0 +/- 0.1/2.5 = 1.0 +/- 0.04 pu. Per the standard, when *Vref*=1, V1 must be at least 0.82 pu and V4 no greater than 1.18 pu. The limits are met in this example, but **the limit on V1 or V4 would be violated if the magnitude of *Qbias* exceeds 0.2 pu**.\n",
    "- *AARV Category A* has no deadband, but with AARV it can regulate Q to *Qbias*. With a higher slope, the red characteristics cross the horizontal axis at 1.0 +/- 0.008 pu.\n",
    "- *Default Category B* has a deadband, wherein Q would equal *Qbias*. The center of the deadband is at V = 1.0 +/- 0.1/7.333 = 1.0 +/- 0.013636 pu.\n",
    "- *AARV Category B* has no deadband, but with AARV it can regulate Q to *Qbias*. With a higher slope, the red characteristics cross the horizontal axis at 1.0 +/- 0.004545 pu.\n",
    "- *HI Rule 14H* has a deadband, wherein Q would equal *Qbias*. The center of the deadband is at V = 1.0 +/- 0.1/14.333 = 1.0 +/- 0.006977 pu.\n",
    " "
   ]
  },
  {
   "cell_type": "code",
   "execution_count": null,
   "id": "c651faa2-6a14-4aa1-8cc8-dbb024ac36b2",
   "metadata": {},
   "outputs": [],
   "source": [
    "show_characteristic ('Default Category A, +Qbias', Vref=1.0, deadband=0.0,  slope=2.5, qmax=0.25, qmin=-0.25, qbias=0.1)\n",
    "show_characteristic ('Default Category A, -Qbias', Vref=1.0, deadband=0.0,  slope=2.5, qmax=0.25, qmin=-0.25, qbias=-0.1)\n",
    "\n",
    "show_characteristic ('AARV Category A, +Qbias', Vref=1.0, deadband=0.0,  slope=12.5,  qmax=0.25, qmin=-0.25, qbias=0.1)\n",
    "show_characteristic ('AARV Category A, -Qbias', Vref=1.0, deadband=0.0,  slope=12.5,  qmax=0.25, qmin=-0.25, qbias=-0.1)\n",
    "\n",
    "show_characteristic ('Default Category B, +Qbias', Vref=1.0, deadband=0.04, slope=22.0/3.0, qmax=0.44, qmin=-0.44, qbias=0.1)\n",
    "show_characteristic ('Default Category B, -Qbias', Vref=1.0, deadband=0.04, slope=22.0/3.0, qmax=0.44, qmin=-0.44, qbias=-0.1)\n",
    "\n",
    "show_characteristic ('AARV Category B, +Qbias', Vref=1.0, deadband=0.0,  slope=22.0,  qmax=0.44, qmin=-0.44, qbias=0.1)\n",
    "show_characteristic ('AARV Category B, -Qbias', Vref=1.0, deadband=0.0,  slope=22.0,  qmax=0.44, qmin=-0.44, qbias=-0.1)\n",
    "\n",
    "show_characteristic ('HI Rule 14H, +Qbias', Vref=1.0, deadband=0.06, slope=43.0/3.0, qmax=0.44, qmin=-0.44, qbias=0.1)\n",
    "show_characteristic ('HI Rule 14H, -Qbias', Vref=1.0, deadband=0.06, slope=43.0/3.0, qmax=0.44, qmin=-0.44, qbias=-0.1)"
   ]
  },
  {
   "cell_type": "markdown",
   "id": "4a38776d-a9d6-4489-a439-ae7386549405",
   "metadata": {},
   "source": [
    "## Examples with Voltage Bias"
   ]
  },
  {
   "cell_type": "markdown",
   "id": "90c05b19-6d6e-4259-a5b7-c4526b5e6896",
   "metadata": {},
   "source": [
    "The previous examples of *Qbias* have shifted the volt-var characteristics up or down on the plots. They may also be shifted left or right on the plots, by specifying *Vref* not equal to 1.0 pu. The result with \"voltage bias\" is not the same as with \"reactive power bias\". Furthermore, any voltage bias will be washed out when AARV is enabled. Run the following Python code cell to show some of the differences.\n",
    "\n",
    "- *Default Category A* with negative voltage bias is functionally the same as with negative reactive power bias. Comparing this graph and table to the first example in the previous section, the (V1,Q1) and (V4,Q4) points match. The interior table points differ, but the red lines match because there is no deadband.\n",
    "- *Default Category B* with positive voltage bias is **functionally different** from the previous example with positive reactive power bias. The (V1,Q1) and (V4,Q4) points match, but the mis-match of (V2,Q2) and (V3,Q3) is important because of the deadband. \n",
    "- *Default Rule 14H* with negative voltage bias is also functionally different from the previous example with negative reactive power bias. There is no DER reactive power at nominal voltage, but during a steady-state overvoltage, the DER absorbs its maximum reactive power before volt-watt engages."
   ]
  },
  {
   "cell_type": "code",
   "execution_count": null,
   "id": "a35e2719-32df-4504-9427-31fbfa958b60",
   "metadata": {},
   "outputs": [],
   "source": [
    "show_characteristic ('Default Category A, -Vbias', Vref=0.96, deadband=0.0,  slope=2.5, qmax=0.25, qmin=-0.25)\n",
    "show_characteristic ('Default Category B, +Vbias', Vref=1.013636, deadband=0.04, slope=22.0/3.0, qmax=0.44, qmin=-0.44)\n",
    "show_characteristic ('HI Rule 14H, -Vbias', Vref=0.993023, deadband=0.06, slope=43.0/3.0, qmax=0.44, qmin=-0.44)"
   ]
  },
  {
   "cell_type": "markdown",
   "id": "af5024c0-648a-40db-880e-6f5bb1051e51",
   "metadata": {},
   "source": [
    "## BSD 3-Clause License\n",
    "\n",
    "Copyright (c) 2023, Meltran, Inc\n",
    "\n",
    "Redistribution and use in source and binary forms, with or without\n",
    "modification, are permitted provided that the following conditions are met:\n",
    "\n",
    "1. Redistributions of source code must retain the above copyright notice, this\n",
    "   list of conditions and the following disclaimer.\n",
    "\n",
    "2. Redistributions in binary form must reproduce the above copyright notice,\n",
    "   this list of conditions and the following disclaimer in the documentation\n",
    "   and/or other materials provided with the distribution.\n",
    "\n",
    "3. Neither the name of the copyright holder nor the names of its\n",
    "   contributors may be used to endorse or promote products derived from\n",
    "   this software without specific prior written permission.\n",
    "\n",
    "THIS SOFTWARE IS PROVIDED BY THE COPYRIGHT HOLDERS AND CONTRIBUTORS \"AS IS\"\n",
    "AND ANY EXPRESS OR IMPLIED WARRANTIES, INCLUDING, BUT NOT LIMITED TO, THE\n",
    "IMPLIED WARRANTIES OF MERCHANTABILITY AND FITNESS FOR A PARTICULAR PURPOSE ARE\n",
    "DISCLAIMED. IN NO EVENT SHALL THE COPYRIGHT HOLDER OR CONTRIBUTORS BE LIABLE\n",
    "FOR ANY DIRECT, INDIRECT, INCIDENTAL, SPECIAL, EXEMPLARY, OR CONSEQUENTIAL\n",
    "DAMAGES (INCLUDING, BUT NOT LIMITED TO, PROCUREMENT OF SUBSTITUTE GOODS OR\n",
    "SERVICES; LOSS OF USE, DATA, OR PROFITS; OR BUSINESS INTERRUPTION) HOWEVER\n",
    "CAUSED AND ON ANY THEORY OF LIABILITY, WHETHER IN CONTRACT, STRICT LIABILITY,\n",
    "OR TORT (INCLUDING NEGLIGENCE OR OTHERWISE) ARISING IN ANY WAY OUT OF THE USE\n",
    "OF THIS SOFTWARE, EVEN IF ADVISED OF THE POSSIBILITY OF SUCH DAMAGE."
   ]
  }
 ],
 "metadata": {
  "kernelspec": {
   "display_name": "Python 3 (ipykernel)",
   "language": "python",
   "name": "python3"
  },
  "language_info": {
   "codemirror_mode": {
    "name": "ipython",
    "version": 3
   },
   "file_extension": ".py",
   "mimetype": "text/x-python",
   "name": "python",
   "nbconvert_exporter": "python",
   "pygments_lexer": "ipython3",
   "version": "3.11.4"
  }
 },
 "nbformat": 4,
 "nbformat_minor": 5
}
