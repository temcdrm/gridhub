{
 "cells": [
  {
   "cell_type": "markdown",
   "id": "e3e44eb8-a558-4f11-a97e-885d99260cd8",
   "metadata": {},
   "source": [
    "# Autonomously Adjusting Reference Voltage\n",
    "The purpose of autonomously adjusting reference voltage (AARV) is to mitigate rapid voltage change (RVC), without affecting the utility’s control of steady-state voltage or the DER’s steady-state reactive power.  AARV may be used with a volt-watt function that mitigates steady-state overvoltage, but otherwise AARV does not regulate steady-state voltage."
   ]
  },
  {
   "cell_type": "markdown",
   "id": "beebe05e-f2ca-4297-b8c5-8f890ce1b9a2",
   "metadata": {},
   "source": [
    "Page 39 of IEEE 1547-2018 says: _The DER shall be capable of autonomously adjusting reference voltage (VRef) with VRef being equal to the low pass filtered measured voltage. The time constant shall be adjustable at least over the range of 300 s to 5000 s. The voltage-reactive power Volt-Var curve characteristic shall be adjusted autonomously as VRef changes. The approval of the Area EPS operator shall be required for the DER to autonomously adjust the reference voltage. Implementation of the autonomous VRef adjustability and the associated time constant shall be specified by the Area EPS operator._"
   ]
  },
  {
   "cell_type": "markdown",
   "id": "60f818c9-b57d-48fb-8eae-dbefd1dcd019",
   "metadata": {},
   "source": [
    "## Historical Background\n",
    "\n",
    "AARV was identified in the course of an applied research project on optimal smart inverter settings, which proved sensitive to location and size of the DER (2015 paper). AARV seemed to offer a uniform default setting approach that could be easier to apply for DER, and it was included in IEEE 1547-2018, but not specified as a default. The AARV function was implemented in the *ExpControl* component in *OpenDSS*, but using system parameters like gain, deadband, and reactive power bias instead of the V1..V4 and Q1..Q4 points (2019 paper). A companion notebook on this site shows how the system parameters are translated to the table parameters required in IEEE 1547-2018. In the mitigation of RVC, several examples have shown that AARV outperforms a static volt-var characteristic, with less reactive power needed from the DER (2019, 2023 papers).\n",
    "\n",
    "References:\n",
    "\n",
    "- 2015 Conference Paper: https://doi.org/10.1109/PESGM.2015.7286560\n",
    "\n",
    "- 2019 Conference Paper: https://doi.org/10.1109/PVSC40753.2019.8981277 \n",
    "\n",
    "- 2023 Conference Paper: https://doi.org/10.1109/PESGM52003.2023.10252317"
   ]
  },
  {
   "cell_type": "markdown",
   "id": "cbed5d18-45d7-4b35-abe1-e0b246506e0f",
   "metadata": {},
   "source": [
    "## Code Samples\n",
    "\n",
    "There are Python code cells in this notebook that create plots and text outputs to illustrate various points of application, implementation, and testing. A live version of this notebook is available at [gridhub](https://github.com/temcdrm/gridhub), under an open-source license and copyright that permit reuse and modification. Run the following Python code cell to define support functions using [Numpy](https://numpy.org/) and [Matplotlib](https://matplotlib.org/)."
   ]
  },
  {
   "cell_type": "code",
   "execution_count": null,
   "id": "7d58f38a",
   "metadata": {},
   "outputs": [],
   "source": [
    "import sys\n",
    "import os\n",
    "import matplotlib.pyplot as plt\n",
    "import numpy as np\n",
    "import math\n",
    "\n",
    "# convert center (Vref), deadband, slope, q limits, and q bias into a table of V and Q points.\n",
    "# the function returns two arrays for the V and Q points\n",
    "#    the arrays have sentinel elements below V1 and above V4, so they are 6 elements long (not 4)\n",
    "#    the sentinel elements clarify that constant extrapolation is used outside the range [V1..V4]\n",
    "#    this version of the function does not check any limits - the caller must do that\n",
    "def set_characteristic (Vref=1.0, deadband=0.0, slope=22.0, qmax=0.44, qmin=-0.44, qbias=0.0):\n",
    "  Q1 = qmax\n",
    "  Q2 = qbias\n",
    "  Q3 = qbias\n",
    "  Q4 = qmin\n",
    "  V2 = Vref - 0.5 * deadband\n",
    "  V3 = Vref + 0.5 * deadband\n",
    "  V1 = V2 - (Q1 - Q2) / slope\n",
    "  V4 = V3 - (Q4 - Q3) / slope\n",
    "  VL = V1 - 0.01\n",
    "  VH = V4 + 0.01\n",
    "  vtable = np.array ([VL, V1, V2, V3, V4, VH])\n",
    "  qtable = np.array ([Q1, Q1, Q2, Q3, Q4, Q4])\n",
    "  return vtable, qtable\n",
    "\n",
    "# This function plots a volt-var characteristic, and returns the VQ points. \n",
    "# (Tabular display is not needed in this notebook.)\n",
    "def show_characteristic (label, Vref, deadband, slope, qmax, qmin, qbias=0):\n",
    "  vtable, qtable = set_characteristic (Vref, deadband, slope, qmax, qmin, qbias)\n",
    "  \n",
    "  # bounds for plotting the horizontal axis\n",
    "  vmin = vtable[0]-0.01\n",
    "  vmax = vtable[-1]+0.01\n",
    "  \n",
    "  # evaluate the characteristic over 500 equal voltage intervals\n",
    "  v = np.linspace (vmin, vmax, 501)\n",
    "  # interpolating Q using the numpy library function\n",
    "  q = np.interp (v, vtable, qtable)\n",
    "  \n",
    "  # create the plot\n",
    "  fig, ax = plt.subplots(1, 1, figsize=(6,4), tight_layout=True)\n",
    "  fig.suptitle ('{:s} volt-var characteristic'.format (label))\n",
    "  ax.plot (vtable, qtable, marker='o', color='blue', label='Points and Sentinels')\n",
    "  ax.plot (v, q, color='red', label='Interpolated')\n",
    "  ax.grid ()\n",
    "  ax.set_xlabel ('V [pu]')\n",
    "  ax.set_ylabel ('Q [pu]')\n",
    "  ax.set_xlim (vmin, vmax)\n",
    "  ax.legend ()\n",
    "  \n",
    "  plt.show ()\n",
    "  return vtable, qtable\n",
    "\n",
    "# This function calculates V and dV at the POC from the formula\n",
    "# in clause 5.1.2 of IEEE 1547.2-2023\n",
    "# All input and output in per-unit\n",
    "def get_voltage (rpu, xpu, dP, dQ, vsrcpu):\n",
    "  a1 = vsrcpu*vsrcpu + rpu*dP + xpu*dQ\n",
    "  a2 = xpu*dP - rpu*dQ\n",
    "  d = math.sqrt (a1*a1 + a2*a2) / vsrcpu / vsrcpu - 1.0\n",
    "  vpu = vsrcpu + d\n",
    "  return vpu, d\n",
    "\n",
    "# use the current directory as default location for the \"save plot\" buttons\n",
    "# optimize the graphic export for LaTex and PDF\n",
    "plt.rcParams['savefig.directory'] = os.getcwd()\n",
    "plt.rcParams['savefig.pad_inches'] = 0.05\n",
    "plt.rcParams['savefig.dpi'] = 300.0\n",
    "plt.rcParams['savefig.bbox'] = 'tight'\n",
    "# invoke the Jupyter support for  Matplotlib graphics\n",
    "%matplotlib widget"
   ]
  },
  {
   "cell_type": "markdown",
   "id": "f8e9e760",
   "metadata": {},
   "source": [
    "## Example Data\n",
    "\n",
    "Run the following Python code cell to define and example data for:\n",
    "\n",
    "- A 6-MW battery energy storage system (BESS) for testing the AARV response to system conditions. At 1 pu source voltage and full power injection, this BESS will create a steady-state voltage of 1.0462 pu at the point of connection. If it turns on suddenly to full power injection, the RVC would be 0.0462 pu, which is greater than the allowed 0.03 pu (3%) at medium voltage. See the 2023 conference paper reference for more details.\n",
    "- A category B volt-var characteristic with maximum allowed slope and zero deadband. See the other notebook, *vqpoints*, for the tabulated V and Q points if needed.\n"
   ]
  },
  {
   "cell_type": "code",
   "execution_count": null,
   "id": "94b9ccbc-6308-4c6e-8ebd-bb435985c0b4",
   "metadata": {},
   "outputs": [],
   "source": [
    "# GLOBAL variables for the Nantucket BESS example; only the volt-var parameters will change in most of the notebook examples\n",
    "SBASE = 6.0e6\n",
    "VBASE = 13200.0\n",
    "ZBASE = VBASE*VBASE/SBASE\n",
    "RPU = 1.210 / ZBASE # 1.744\n",
    "XPU = 2.8339 / ZBASE # 2.6797\n",
    "DP = 6.0e6 / SBASE\n",
    "DQ = 0.0 / SBASE\n",
    "VSRC = 1.0\n",
    "\n",
    "vpoc, d = get_voltage (RPU, XPU, DP, DQ, VSRC)\n",
    "print ('Nantucket BESS example for dP={:.3f}, dQ={:.3f}, R={:.3f}, X={:.3f} pu: Vpoc={:.4f}, dV={:.4f} pu'.format (DP, DQ, RPU, XPU, vpoc, d))\n",
    "\n",
    "# plot the default characteristic used for AARV examples\n",
    "vtable, qtable = show_characteristic ('AARV Category B', Vref=1, deadband=0, slope=22, qmax=0.44, qmin=-0.44)"
   ]
  },
  {
   "cell_type": "markdown",
   "id": "7069b4e7-6172-499e-a556-2a7beff5f4f7",
   "metadata": {},
   "source": [
    "## AARV Response to Storage Power-On Ramping\n",
    "\n",
    "Run the following Python code cell to define a simulation of full power-on events of the example 6-MW BESS with AARV. Compared to the *show_aarv_test* function, new input parameters are:\n",
    "\n",
    "- *numTrefs* determines how long to run the simulation. As the terminal voltage changes, it may take longer than expected for the DER's reactive power to settle.\n",
    "- *RampTime* defines the steepness of the power ramp. In *show_aarv_test*, the source voltage changes in a single time step, e.g., in 100 ms. Because the open loop response time ranges from 1s to 90s, the BESS reactive power could not respond effectively to faster ramps in power, whether or not AARV is enabled.\n",
    "- *Qbias* allows for a non-zero steady-state reactive power\n",
    "\n",
    "The output includes the maximum value of *Verr*, i.e., the maximum difference between *Vref* and the terminal voltage. This maximum *Verr* is approximately equal to the RVC in per unit. This function enforces limits on *Vref* because grid voltage fluctuations aren't controlled as they are in the lab for IEEE 1547.1 test procedures."
   ]
  },
  {
   "cell_type": "code",
   "execution_count": null,
   "id": "bcb40100-7aac-4f9c-95e5-06aa8ca03d88",
   "metadata": {},
   "outputs": [],
   "source": [
    "def show_bess_test (tag, Vref, dB, K, Qmax, Qmin, Tref, Tresponse, dt=0.1, numTrefs=1, RampTime=5, bShiftTable=False, Qbias=0.0):\n",
    "  TauOL = Tresponse / 2.3026\n",
    "  if Tref > 0.0:\n",
    "    IncRef = 1.0 - math.exp(-dt/Tref)\n",
    "    tmax = numTrefs * Tref\n",
    "  else: # Tref equal to zero disables AARV\n",
    "    IncRef = 0.0\n",
    "    tmax = 300.0\n",
    "  IncOL = 1.0 - math.exp(-dt/TauOL)\n",
    "  vtable, qtable = set_characteristic (Vref, dB, K, Qmax, Qmin, Qbias)\n",
    "\n",
    "  t = np.linspace (0, tmax, int(tmax / dt) + 1)\n",
    "  npts = len(t)\n",
    "\n",
    "  vsrc = np.ones(npts)\n",
    "  vpoc = np.ones(npts)\n",
    "  pstart = 1.0\n",
    "  # create a linear ramp in real power\n",
    "  pend = pstart + RampTime\n",
    "  p = np.interp(t, [0.0, pstart, pend, t[-1]], [0.0, 0.0, DP, DP])\n",
    "\n",
    "  q = np.zeros(npts)\n",
    "  vref = Vref * np.ones(npts) # array to be updated at each time step, note that scalar Vref will not be updated\n",
    "  verr = np.zeros(npts)\n",
    "  \n",
    "  for i in range(npts-1):\n",
    "    vpoc[i], d = get_voltage (RPU, XPU, p[i], q[i], vsrc[i])\n",
    "    verr[i] = vpoc[i] - vref[i]\n",
    "    vref[i+1] = vref[i] + verr[i] * IncRef\n",
    "    # limiting vref to allowable range\n",
    "    if vref[i+1] > 1.05:\n",
    "      vref[i+1] = 1.05\n",
    "    elif vref[i+1] < 0.95:\n",
    "      vref[i+1] = 0.95\n",
    "    if bShiftTable: # this approach resets the V1..V4 points each time the current value of reference voltage changes\n",
    "      vtable, qtable = set_characteristic (vref[i], deadband=dB, slope=K, qmax=Qmax, qmin=Qmin)\n",
    "      qtarg = np.interp (vpoc[i], vtable, qtable)\n",
    "    else: # this approach modifies the voltage entry point, as an offset from the original reference voltage\n",
    "      qtarg = np.interp (Vref + verr[i], vtable, qtable)\n",
    "    q[i+1] = q[i] + (qtarg - q[i]) * IncOL\n",
    "  # solve for plotting the last voltage points in the time series\n",
    "  vpoc[-1], d = get_voltage (RPU, XPU, p[-1], q[-1], vsrc[-1])\n",
    "  verr[-1] = vpoc[-1] - vref[-1]\n",
    "\n",
    "  fig, ax = plt.subplots(1, 2, sharex = 'col', figsize=(10,4), constrained_layout=True)\n",
    "  fig.suptitle ('Time Response for {:s}, Max Verr={:.4f}, Final Vref={:.4f}, Final Vpoc={:.4f}'.format (tag, np.max(verr), vref[-1], vpoc[-1]))\n",
    "  ax[0].plot (t, p, label='P')\n",
    "  ax[0].plot (t, q, label='Q')\n",
    "  ax[1].plot (t, vsrc, label='Vsrc')\n",
    "  ax[1].plot (t, vpoc, label='Vpoc')\n",
    "  ax[1].plot (t, vref, label='Vref')\n",
    "  #ax[1].plot (t, verr, label='Verr')\n",
    "  for i in range(2):\n",
    "    ax[i].set_ylabel ('[pu]')\n",
    "    ax[i].set_xlabel ('[s]')\n",
    "    ax[i].set_xlim (t[0], t[-1])\n",
    "    ax[i].legend()\n",
    "    ax[i].grid()\n",
    "  plt.show()"
   ]
  },
  {
   "cell_type": "markdown",
   "id": "80cec98c-30e7-4d1f-8665-dfd75cfa4603",
   "metadata": {},
   "source": [
    "## AARV Category B: Effect of Open-Loop Response\n",
    "\n",
    "Run the following Python code cell to show these examples, with a 5s ramp in real power at the BESS. The RVC without AARV would be 4.62%, as determined above.\n",
    "\n",
    "- *1s* (minimum allowed), results in 1.63% RVC, which occurs very early in the event. The terminal voltage, *Vpoc*, continues to increase, but so does *Vref*, such that the difference between them continues to decrease.\n",
    "- *5s* (category B default), results in 2.00% RVC.\n",
    "- *10s* (category A default), results in 2.52% RVC.\n",
    "\n",
    "All three RVC values are within the limit of 3%, and Q does not reach the limit of -0.44 pu for category B."
   ]
  },
  {
   "cell_type": "code",
   "execution_count": null,
   "id": "e615fa1f-4eef-47c4-b39f-53cbf1c7668e",
   "metadata": {},
   "outputs": [],
   "source": [
    "for tr in [1.0, 5.0, 10.0]:\n",
    "  tag = 'AARV B, 5s Ramp, Tresponse={:.1f}s'.format (tr)\n",
    "  show_bess_test (tag, Vref=1, dB=0, K=22, Qmax=0.44, Qmin=-0.44, Tref=300, Tresponse=tr, dt=0.1, numTrefs=1.0, RampTime=5.0)"
   ]
  },
  {
   "cell_type": "markdown",
   "id": "b662d550-53c5-4452-abf6-233301ceec62",
   "metadata": {},
   "source": [
    "## AARV Category A: Effect of Open-Loop Response\n",
    "\n",
    "Run the following Python code cell to show these examples, with a 5s ramp in real power at the BESS. The baseline RVC is still 4.62%.\n",
    "\n",
    "- *1s* (minimum allowed) results in 2.36% RVC.\n",
    "- *5s* (category B default) results in 2.85% RVC.\n",
    "- *10s* (category A default) results in 3.32% RVC, which is over the limit.\n",
    "\n",
    "These results are not as good as with category B, because 1) the gain, *K*, is lower and 2) the magnitude of *Qmin* is also lower. From the plots, *Qmin* is reached for all three events with category A.\n",
    "\n",
    "All of these AARV events have been simulated over a time period equal to *Tref*, but the reactive power does not decay to 37% of its peak value when t=*Tref*, as might have been expected. For example, in the third plot below (*10s* open-loop response), Q peaks at -0.25 pu and the value at *Tref* is about -0.176 pu. This is about 70% of the peak Q value. The reason is that *Vpoc* continues to increase during the event, so the difference between *Vpoc* and *Vref* does not decrease as fast. In the 1547.1 lab test, with near-zero impedance, *Vpoc* would stay constant after the initial step in source voltage."
   ]
  },
  {
   "cell_type": "code",
   "execution_count": null,
   "id": "2e1cf987-a4bd-4efb-ad16-b491dc0374b2",
   "metadata": {},
   "outputs": [],
   "source": [
    "for tr in [1.0, 5.0, 10.0]:\n",
    "  tag = 'AARV A, 5s Ramp, Tresponse={:.1f}s'.format (tr)\n",
    "  show_bess_test (tag, Vref=1, dB=0, K=12.5, Qmax=0.25, Qmin=-0.25, Tref=300, Tresponse=tr, dt=0.1, numTrefs=1.0, RampTime=5.0)\n"
   ]
  },
  {
   "cell_type": "markdown",
   "id": "6f4d4c76-5b69-4b14-a356-922acc8d17b2",
   "metadata": {},
   "source": [
    "## Examples with No Volt-Var Response\n",
    "\n",
    "Run the following Python code cell to show the effect of setting *Qmax* and *Qmin* to zero, so the DER cannot supply or absorb reactive power.\n",
    "\n",
    "- *With Table Shift* produces an RVC of 4.59%, which is over the limit.\n",
    "- *Without Table Shift* produces an RVC of 4.59%, which is over the limit.\n",
    "\n",
    "The results match in both cases. The RVC is 4.59% as estimated from the maximum *Verr*, which is a little less than the expected value of 4.62% due primarily to time step discretization."
   ]
  },
  {
   "cell_type": "code",
   "execution_count": null,
   "id": "c5962535-a676-4fef-a4a2-ea28cfd1cf45",
   "metadata": {},
   "outputs": [],
   "source": [
    "show_bess_test ('5s Ramp, No Volt-Var', Vref=1, dB=0, K=22, Qmax=0, Qmin=0, Tref=300, Tresponse=5, dt=0.1, numTrefs=1.0, RampTime=5.0, bShiftTable=True)\n",
    "show_bess_test ('5s Ramp, No Volt-Var', Vref=1, dB=0, K=22, Qmax=0, Qmin=0, Tref=300, Tresponse=5, dt=0.1, numTrefs=1.0, RampTime=5.0, bShiftTable=False)"
   ]
  },
  {
   "cell_type": "markdown",
   "id": "f15650f4-6212-493f-b217-04c2536d8cd7",
   "metadata": {},
   "source": [
    "## Long-Running Examples\n",
    "\n",
    "Run the following Python code cell to show the long decay of DER reactive power when the terminal voltage is not constant, and AARV is enabled.\n",
    "\n",
    "- *With Table Shift* produces an RVC of 2.0%.\n",
    "- *Without Table Shift* produces an RVC of 2.0%.\n",
    "\n",
    "The results match in both cases. After 10 time constants (*Tref*) have elapsed, the DER reactive power is close to zero, and *Vpoc* is close to *Vref*."
   ]
  },
  {
   "cell_type": "code",
   "execution_count": null,
   "id": "1553ce1d-82fc-4765-b466-2e6aeba9e051",
   "metadata": {},
   "outputs": [],
   "source": [
    "show_bess_test ('Q decay', Vref=1, dB=0, K=22, Qmax=0.44, Qmin=-0.44, Tref=300, Tresponse=5, dt=0.1, numTrefs=10.0, RampTime=5.0, bShiftTable=True)\n",
    "show_bess_test ('Q decay', Vref=1, dB=0, K=22, Qmax=0.44, Qmin=-0.44, Tref=300, Tresponse=5, dt=0.1, numTrefs=10.0, RampTime=5.0, bShiftTable=False)"
   ]
  },
  {
   "cell_type": "markdown",
   "id": "52e9dcd1-c6dd-4d16-9d11-d533e4c1dbee",
   "metadata": {},
   "source": [
    "## Effect of Power Ramp Time\n",
    "\n",
    "Run the following Python code cell to show the effect of Power ramping time, *RampTime*, when the open-loop response time is held constant at 5s.\n",
    "\n",
    "- *0.1s* produces an RVC of 4.62%, which is over the limit and equal to the expected value from static voltage change calculation. There is no time step effect on the RVC estimate, and no benefit of AARV for *RampTime* this fast.\n",
    "- *1.0s* produces an RVC of 3.51%, which is reduced but still over the limit.\n",
    "- *5.0s* produces an RVC of 2.00%.\n",
    "- *10.0s* produces an RVC of 1.76%.\n",
    "\n",
    "There is little effect on the values at t=*Tref*."
   ]
  },
  {
   "cell_type": "code",
   "execution_count": null,
   "id": "ec37670f-4a59-491c-b6da-4cec0b90ceab",
   "metadata": {},
   "outputs": [],
   "source": [
    "for tramp in [0.1, 1.0, 5.0, 10.0]:\n",
    "  tag = 'AARV B, {:.1f}s Ramp, Tresponse=5s'.format (tramp)\n",
    "  show_bess_test (tag, Vref=1, dB=0, K=22, Qmax=0.44, Qmin=-0.44, Tref=300, Tresponse=5.0, dt=0.1, numTrefs=1.0, RampTime=tramp)"
   ]
  },
  {
   "cell_type": "markdown",
   "id": "34f60228-1d7f-4311-a985-081be9001798",
   "metadata": {},
   "source": [
    "## AARV Response to Grid Voltage Fluctuations\n",
    "\n",
    "Run the following Python code cell to define a simulation of voltage source fluctuations on the example 6-MW BESS with AARV. A new input parameter is:\n",
    "\n",
    "- *Vinit* initializes the reference point for AARV, in the case when DER real (and reactive) power might not be zero. We still typically call this function with *Vref*=1, but a different value of *Vinit* may initialize the simulation without any startup transient.\n",
    "\n",
    "The source voltage fluctuation lasts for 12 AARV time constants, and it follows a trapezoidal shape with magnitude +/- 0.02 per-unit around the nominal value of 1.0 per-unit."
   ]
  },
  {
   "cell_type": "code",
   "execution_count": null,
   "id": "7be2e476-d7cc-4875-9bfb-cd15ca72fe54",
   "metadata": {},
   "outputs": [],
   "source": [
    "def show_vsrc_test (tag, Vref, dB, K, Qmax, Qmin, Tref, Tresponse, dt=0.1, Vinit=1.0, bShiftTable=False, Qbias=0.0):\n",
    "  TauOL = Tresponse / 2.3026\n",
    "  if Tref > 0.0:\n",
    "    IncRef = 1.0 - math.exp(-dt/Tref)\n",
    "  else:\n",
    "    IncRef = 0.0\n",
    "    Tref = 300.0\n",
    "  IncOL = 1.0 - math.exp(-dt/TauOL)\n",
    "  vtable, qtable = set_characteristic (Vref, dB, K, Qmax, Qmin, Qbias)\n",
    "\n",
    "  tmax = 12.0 * Tref\n",
    "  t = np.linspace (0, tmax, int(tmax / dt) + 1)\n",
    "  npts = len(t)\n",
    "\n",
    "  vsrc = np.interp (t, [0.0, 2*Tref, 3*Tref, 5*Tref, 7*Tref, 9*Tref, 10*Tref, t[-1]], \n",
    "                       [1.0, 1.0,    1.02,   1.02,   0.98,   0.98,   1.0,     1.0])\n",
    "  # determine initial condition on q and vpoc\n",
    "  v0 = 1.0\n",
    "  if IncRef <= 0.0: # no AARV, run 10 iterations on the static volt-var characteristic\n",
    "    q0 = 0.0\n",
    "    accel = 0.5\n",
    "    for i in range(10):\n",
    "      v0, d0 = get_voltage (RPU, XPU, DP, q0, vsrc[0])\n",
    "      q1 = np.interp (v0, vtable, qtable)\n",
    "      q0 += accel * (q1 - q0)\n",
    "  else: # with AARV, just use Qbias and rely on correct specification of Vinit for Vref\n",
    "    q0 = Qbias\n",
    "    v0, d0 = get_voltage (RPU, XPU, DP, q0, vsrc[0])\n",
    "  \n",
    "  p = DP * np.ones(npts)\n",
    "  q = q0 * np.ones(npts)\n",
    "  vpoc = v0 * np.ones(npts)\n",
    "  vref = Vinit * np.ones(npts) # array to be updated, original scalar value (Vref) is not updated\n",
    "  verr = np.zeros(npts)\n",
    "  \n",
    "  for i in range(npts-1):\n",
    "    vpoc[i], d = get_voltage (RPU, XPU, p[i], q[i], vsrc[i])\n",
    "    verr[i] = vpoc[i] - vref[i]\n",
    "    vref[i+1] = vref[i] + verr[i] * IncRef\n",
    "    # limiting vref to allowable range\n",
    "    if vref[i+1] > 1.05:\n",
    "      vref[i+1] = 1.05\n",
    "    elif vref[i+1] < 0.95:\n",
    "      vref[i+1] = 0.95\n",
    "    if bShiftTable: # this approach resets the V1..V4 points each time Vref changes\n",
    "      vtable, qtable = set_characteristic (vref[i], deadband=dB, slope=K, qmax=Qmax, qmin=Qmin)\n",
    "      qtarg = np.interp (vpoc[i], vtable, qtable)\n",
    "    else: # this approach modifies the voltage entry point with an offset around the original Vref\n",
    "      qtarg = np.interp (Vref + verr[i], vtable, qtable)\n",
    "    q[i+1] = q[i] + (qtarg - q[i]) * IncOL\n",
    "  # for plotting the last voltage points in the time series\n",
    "  vpoc[-1], d = get_voltage (RPU, XPU, p[-1], q[-1], vsrc[-1])\n",
    "  verr[-1] = vpoc[-1] - vref[-1]\n",
    "  \n",
    "  fig, ax = plt.subplots(1, 2, sharex = 'col', figsize=(10,4), constrained_layout=True)\n",
    "  fig.suptitle ('Vsrc Fluctuation Response for {:s}, Max Vref={:.4f}, Vpoc[Min,Max,Final]=[{:.4f},{:.4f},{:.4f}]'.format (tag, np.max(vref), np.min(vpoc), np.max(vpoc), vpoc[-1]))\n",
    "  ax[0].plot (t, p, label='P')\n",
    "  ax[0].plot (t, q, label='Q')\n",
    "  ax[1].plot (t, vsrc, label='Vsrc')\n",
    "  ax[1].plot (t, vpoc, label='Vpoc')\n",
    "  ax[1].plot (t, vref, label='Vref')\n",
    "  #ax[1].plot (t, verr, label='Verr')\n",
    "  for i in range(2):\n",
    "    ax[i].set_ylabel ('[pu]')\n",
    "    ax[i].set_xlabel ('[s]')\n",
    "    ax[i].set_xlim (t[0], t[-1])\n",
    "    ax[i].legend()\n",
    "    ax[i].grid()\n",
    "  plt.show()"
   ]
  },
  {
   "cell_type": "markdown",
   "id": "8aef141f-a9dc-4055-bd51-001d6797d84d",
   "metadata": {},
   "source": [
    "## Vsrc Fluctuations at Full Power Output\n",
    "\n",
    "Run the following Python code cell to show the effect of voltage source fluctuations, when the steady-state terminal voltage is already 1.0459 pu, as obtained from the static voltage change calculation performed in section 1.3.\n",
    "\n",
    "- *Category B with Table Shifting* results in a maximum steady state voltage of 1.0548 pu. The limit on Q is not reached.\n",
    "- *Category B without Table Shifting* matches the result with table shifting.\n",
    "- *Category A* results in a maximum steady state voltage of 1.0567 pu. The limit on Q is not reached.\n",
    "\n",
    "The source voltage ramp times are 300s, so RVC would be less severe than in the power ramping examples and it was not calculated for source voltage fluctuations.  The graphs show that *Vpoc* varies less than *Vsrc*.  In all three cases, *Vref* reaches its limit of 1.05 pu. Over the simulated interval, the positive and negative reactive power excursions average to approximately zero.\n",
    "\n",
    "The 2019 and 2023 conference paper references proposed adjustable limits on *Vref*, e.g., the range 0.97 to 1.03 pu. This would allow the DER to inject or absorb full reactive power by the time *Vpoc* reaches 0.95 or 1.05 pu, which would further mitigate overvoltages or undervoltages. (Note: the deadband in Hawaii Rule 14H's volt-var characteristic provides a similar benefit.)  However, the standard already allows a reactive power bias on AARV, which would provide a similar benefit as the adjustable limits on *Vref*."
   ]
  },
  {
   "cell_type": "code",
   "execution_count": null,
   "id": "079daf27-d712-4b78-a57e-bc9d4a9f8666",
   "metadata": {},
   "outputs": [],
   "source": [
    "\n",
    "show_vsrc_test ('AARV B (shifting table)', Vref=1, dB=0, K=22, Qmax=0.44, Qmin=-0.44, Tref=300, Tresponse=5, dt=0.1, Vinit=1.0462, bShiftTable=True)\n",
    "show_vsrc_test ('AARV B', Vref=1, dB=0, K=22, Qmax=0.44, Qmin=-0.44, Tref=300, Tresponse=5, dt=0.1, Vinit=1.0462, bShiftTable=False)\n",
    "show_vsrc_test ('AARV A', Vref=1, dB=0, K=12.5, Qmax=0.25, Qmin=-0.25, Tref=300, Tresponse=5, dt=0.1, Vinit=1.0462)"
   ]
  },
  {
   "cell_type": "markdown",
   "id": "6b5e71c3-1bec-42c9-8ccc-69b64ff37a07",
   "metadata": {},
   "source": [
    "## Static Volt-Var Response to Storage Power-On Ramping\n",
    "\n",
    "Run the following Python code cell to show the impact of BESS power-on transients, with no AARV. The open-loop response time and power ramp time are both 5s.\n",
    "\n",
    "- *Aggressive Category B* produces 2.01% RVC.\n",
    "- *Default Category B* produces 4.02% RVC, which is above the limit, primarily due to the non-zero deadband, *dB*.\n",
    "- *Aggressive Category A* produces 2.87% RVC.\n",
    "- *Default Category A* produces 4.06% RVC, which is above the limit, primary due to the low gain, *K*.\n",
    "- *Hawaii Rule 14H* produces 4.15% RVC, which is above the limit, primarily due to the non-zero deadband, *dB*.\n",
    "\n",
    "The steady-state reactive power holds steady at a non-zero value, which helps regulate steady-state voltage below 1.0462 pu, but is less effective mitigating RVC."
   ]
  },
  {
   "cell_type": "code",
   "execution_count": null,
   "id": "362a9cba-9e78-4402-8dd4-d709ea740b99",
   "metadata": {},
   "outputs": [],
   "source": [
    "show_bess_test ('Agg B, No AARV', Vref=1, dB=0, K=22, Qmax=0.44, Qmin=-0.44, Tref=0, Tresponse=5)\n",
    "show_bess_test ('Def B, No AARV', Vref=1, dB=0.04, K=22.0/3.0, Qmax=0.44, Qmin=-0.44, Tref=0, Tresponse=5)\n",
    "show_bess_test ('Agg A, No AARV', Vref=1, dB=0, K=12.5, Qmax=0.25, Qmin=-0.25, Tref=0, Tresponse=5)\n",
    "show_bess_test ('Def A, No AARV', Vref=1, dB=0, K=2.50, Qmax=0.25, Qmin=-0.25, Tref=0, Tresponse=5)\n",
    "show_bess_test ('HI 14H, No AARV', Vref=1, dB=0.06, K=43.0/3.0, Qmax=0.44, Qmin=-0.44, Tref=0, Tresponse=5)"
   ]
  },
  {
   "cell_type": "markdown",
   "id": "a1dcfb4c-ac7d-4309-9a7c-bc7c0f90a780",
   "metadata": {},
   "source": [
    "## Static Volt-Var Response to Grid Voltage Fluctuations\n",
    "\n",
    "Run the following Python code cell to show the impact of source voltage transients, with no AARV:\n",
    "\n",
    "- *Aggressive Category B* limits *Vpoc* to 1.025 pu\n",
    "- *Default Category B* limits *Vpoc* to 1.0467 pu\n",
    "- *Aggressive Category A* limits *Vpoc* to 1.0419 pu\n",
    "- *Default Category A* limits *Vpoc* to 1.0525 pu\n",
    "- *Hawaii Rule 14H* limits *Vpoc* to 1.045 pu\n",
    "\n",
    "All of these should be acceptable results."
   ]
  },
  {
   "cell_type": "code",
   "execution_count": null,
   "id": "2f966cdd-f918-434b-b83b-2d5cec6c3fc0",
   "metadata": {},
   "outputs": [],
   "source": [
    "show_vsrc_test ('Agg B, No AARV', Vref=1, dB=0, K=22, Qmax=0.44, Qmin=-0.44, Tref=0, Tresponse=5)\n",
    "show_vsrc_test ('Def B, No AARV', Vref=1, dB=0.04, K=22.0/3.0, Qmax=0.44, Qmin=-0.44, Tref=0, Tresponse=5)\n",
    "show_vsrc_test ('Agg A, No AARV', Vref=1, dB=0, K=12.5, Qmax=0.25, Qmin=-0.25, Tref=0, Tresponse=5)\n",
    "show_vsrc_test ('Def A, No AARV', Vref=1, dB=0, K=2.50, Qmax=0.25, Qmin=-0.25, Tref=0, Tresponse=5)\n",
    "show_vsrc_test ('HI 14H, No AARV', Vref=1, dB=0.06, K=43.0/3.0, Qmax=0.44, Qmin=-0.44, Tref=0, Tresponse=5)"
   ]
  },
  {
   "cell_type": "markdown",
   "id": "917363d4-5584-4f32-af44-2b7201214e84",
   "metadata": {},
   "source": [
    "## Reactive Power Bias with AARV\n",
    "\n",
    "Run the following Python code cell to find the terminal voltage, when the BESS absorbs -0.1 pu reactive power. This voltage is 1.0369 pu, compared to 1.0462 pu at zero reactive power."
   ]
  },
  {
   "cell_type": "code",
   "execution_count": null,
   "id": "a7371cdf-b158-49da-b522-5e9f2064fd1a",
   "metadata": {},
   "outputs": [],
   "source": [
    "DQ = -0.1\n",
    "vpoc, d = get_voltage (RPU, XPU, DP, DQ, VSRC)\n",
    "print ('Nantucket BESS example for dP={:.3f}, dQ={:.3f}, R={:.3f}, X={:.3f} pu: Vpoc={:.4f}, dV={:.4f} pu'.format (DP, DQ, RPU, XPU, vpoc, d))"
   ]
  },
  {
   "cell_type": "markdown",
   "id": "ee74feb7-aa93-43e0-9d79-f9360c1aae34",
   "metadata": {},
   "source": [
    "Run the following Python code cell to simulate a source voltage fluctation under this condition, specifying *Vinit*=1.0369 from the preceding output. The value of *Qbias* keeps *Vpoc* within 1.05 pu, but the DER reactive power fluctuations no longer average to zero."
   ]
  },
  {
   "cell_type": "code",
   "execution_count": null,
   "id": "515969c4-af1f-4a50-a89d-c12902aaf6c3",
   "metadata": {},
   "outputs": [],
   "source": [
    "show_vsrc_test ('Agg B with Qbias', Vref=1, dB=0, K=22, Qmax=0.44, Qmin=-0.44, Tref=300, Tresponse=5, Vinit=1.0369, Qbias=-0.1)"
   ]
  },
  {
   "cell_type": "markdown",
   "id": "1038f2bb-02e8-4808-a795-b449445776c7",
   "metadata": {},
   "source": [
    "## Conclusions\n",
    "\n",
    "1. Shorter open-loop response times, *Tresponse*, improve the mitigation of RVC. A specified default of 1-5s should be considered.\n",
    "2. Shorter AARV time constants, *Tref*, improve the mitigation of RVC. A specified default of 300s should be considered.\n",
    "3. The mitigation that AARV provides for RVC should be effective for the normal output fluctuations of solar, wind, and controlled power ramping. It's less effective for sudden changes due to DER switching, which would also be true of static volt-var characteristics.\n",
    "4. Options for mitigating steady-state undervoltage and overvoltage may include:\n",
    "    - Static volt-var, with supplemental volt-watt\n",
    "    - AARV with non-zero *Qbias*\n",
    "    - AARV with tighter limits on *Vref*, which would require a change to Table 8 in IEEE 1547-2018\n",
    "    - Reliance on utility-controlled tap changers, capacitor banks, etc.\n",
    " "
   ]
  },
  {
   "cell_type": "markdown",
   "id": "0285ee6c-3617-4ed6-863f-e038b97df789",
   "metadata": {},
   "source": [
    "## BSD 3-Clause License\n",
    "\n",
    "Copyright (c) 2023, Meltran, Inc\n",
    "\n",
    "Redistribution and use in source and binary forms, with or without\n",
    "modification, are permitted provided that the following conditions are met:\n",
    "\n",
    "1. Redistributions of source code must retain the above copyright notice, this\n",
    "   list of conditions and the following disclaimer.\n",
    "\n",
    "2. Redistributions in binary form must reproduce the above copyright notice,\n",
    "   this list of conditions and the following disclaimer in the documentation\n",
    "   and/or other materials provided with the distribution.\n",
    "\n",
    "3. Neither the name of the copyright holder nor the names of its\n",
    "   contributors may be used to endorse or promote products derived from\n",
    "   this software without specific prior written permission.\n",
    "\n",
    "THIS SOFTWARE IS PROVIDED BY THE COPYRIGHT HOLDERS AND CONTRIBUTORS \"AS IS\"\n",
    "AND ANY EXPRESS OR IMPLIED WARRANTIES, INCLUDING, BUT NOT LIMITED TO, THE\n",
    "IMPLIED WARRANTIES OF MERCHANTABILITY AND FITNESS FOR A PARTICULAR PURPOSE ARE\n",
    "DISCLAIMED. IN NO EVENT SHALL THE COPYRIGHT HOLDER OR CONTRIBUTORS BE LIABLE\n",
    "FOR ANY DIRECT, INDIRECT, INCIDENTAL, SPECIAL, EXEMPLARY, OR CONSEQUENTIAL\n",
    "DAMAGES (INCLUDING, BUT NOT LIMITED TO, PROCUREMENT OF SUBSTITUTE GOODS OR\n",
    "SERVICES; LOSS OF USE, DATA, OR PROFITS; OR BUSINESS INTERRUPTION) HOWEVER\n",
    "CAUSED AND ON ANY THEORY OF LIABILITY, WHETHER IN CONTRACT, STRICT LIABILITY,\n",
    "OR TORT (INCLUDING NEGLIGENCE OR OTHERWISE) ARISING IN ANY WAY OUT OF THE USE\n",
    "OF THIS SOFTWARE, EVEN IF ADVISED OF THE POSSIBILITY OF SUCH DAMAGE."
   ]
  }
 ],
 "metadata": {
  "kernelspec": {
   "display_name": "Python 3 (ipykernel)",
   "language": "python",
   "name": "python3"
  },
  "language_info": {
   "codemirror_mode": {
    "name": "ipython",
    "version": 3
   },
   "file_extension": ".py",
   "mimetype": "text/x-python",
   "name": "python",
   "nbconvert_exporter": "python",
   "pygments_lexer": "ipython3",
   "version": "3.9.6"
  }
 },
 "nbformat": 4,
 "nbformat_minor": 5
}
