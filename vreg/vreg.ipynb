{
 "cells": [
  {
   "cell_type": "markdown",
   "id": "e3e44eb8-a558-4f11-a97e-885d99260cd8",
   "metadata": {},
   "source": [
    "The purpose of autonomously adjusting reference voltage (AARV) is to mitigate rapid voltage change (RVC), without affecting the utility’s control of steady-state voltage or the DER’s steady-state reactive power.  AARV may be used with a volt-watt function that mitigates steady-state overvoltage, but otherwise AARV does not regulate steady-state voltage."
   ]
  },
  {
   "cell_type": "markdown",
   "id": "beebe05e-f2ca-4297-b8c5-8f890ce1b9a2",
   "metadata": {},
   "source": [
    "Page 39 of IEEE 1547-2018 says: _The DER shall be capable of autonomously adjusting reference voltage (VRef) with VRef being equal to the low pass filtered measured voltage. The time constant shall be adjustable at least over the range of 300 s to 5000 s. The voltage-reactive power Volt-Var curve characteristic shall be adjusted autonomously as VRef changes. The approval of the Area EPS operator shall be required for the DER to autonomously adjust the reference voltage. Implementation of the autonomous VRef adjustability and the associated time constant shall be specified by the Area EPS operator._"
   ]
  },
  {
   "cell_type": "markdown",
   "id": "1470d33b-fba6-49ae-9974-6c62e380ad9d",
   "metadata": {},
   "source": [
    "Clause 5.14.5 of IEEE 1547.1-2020 describes a test for AARV. In all other tests, AARV is to be disabled. Four AARV tests are described, at the time constant Tref = 300s and 5000s, each of those with source voltage steps to (V1+V2)/2 and (V3+V4)/2. Before each voltage step, the steady-state reactive power, Q, should be zero at V=Vref. The voltage steps result in step changes of Q to 0.5*Q1 and 0.5*Q4, respectively, with some delay from the open-loop response. These new Q values should follow an exponential decay back to zero, governed by Tref = 300s or 5000s. The test criteria specifies that after one time constant, Tref, the value of Q should be less than 10% of Q1 or Q4, respectively. However, the expected value of Q, following an exponential decay from the stepped value, is Q = 0.5*Q1*exp(-Tref/Tref) = 0.1839*Q1 or 0.1839*Q4. The evaluation criteria at 1*Tref should be 20% instead of 10%.  Note: at 2*Tref, the expected value of Q is 0.0677*Q1 or 0.0677*Q4. This test verifies implementation of Tref, but not the impact of AARV on a system with grid impedance."
   ]
  },
  {
   "cell_type": "markdown",
   "id": "60f818c9-b57d-48fb-8eae-dbefd1dcd019",
   "metadata": {},
   "source": [
    "2019 Conference Paper: https://doi.org/10.1109/PVSC40753.2019.8981277 \n",
    "\n",
    "2023 Conference Paper: https://doi.org/10.1109/PESGM52003.2023.10252317"
   ]
  },
  {
   "cell_type": "code",
   "execution_count": null,
   "id": "7d58f38a",
   "metadata": {},
   "outputs": [],
   "source": [
    "import sys\n",
    "import os\n",
    "import matplotlib.pyplot as plt\n",
    "import numpy as np\n",
    "import math\n",
    "plt.rcParams['savefig.directory'] = os.getcwd()"
   ]
  },
  {
   "cell_type": "markdown",
   "id": "f8e9e760",
   "metadata": {},
   "source": [
    "Run the following cells to generate the plots using [Matplotlib](https://matplotlib.org/)"
   ]
  },
  {
   "cell_type": "code",
   "execution_count": null,
   "id": "94b9ccbc-6308-4c6e-8ebd-bb435985c0b4",
   "metadata": {},
   "outputs": [],
   "source": [
    "dt = 0.1\n",
    "Tref = 300.0\n",
    "Tresponse = 5.0\n",
    "TauOL = Tresponse / 2.3026\n",
    "IncRef = 1.0 - math.exp(-dt/Tref)\n",
    "IncOL = 1.0 - math.exp(-dt/TauOL)\n",
    "\n",
    "Vreg = 1.0\n",
    "dB = 0.0 # 0.02\n",
    "K = 22.0\n",
    "#Verr = Vpu - Vreg\n",
    "#Vreg = Vreg + Verr * IncRef\n",
    "#Qtarg = -K * (V - Vreg) + Qbias # differs from OpenDSS in that it does not iterate\n",
    "#Q = Qlast + (Q - Qlast) * IncOL\n",
    "\n",
    "# plot P, Q, V, Vreg, Vsrc\n",
    "# input Vreg, K, dB, Q1, Q4\n",
    "# calculate Q2 = Q3 = 0\n",
    "\n",
    "def set_characteristic (center=1.0, deadband=0.0, slope=22.0, qmax=0.44, qmin=-0.44):\n",
    "    Vreg = center\n",
    "    Q1 = qmax\n",
    "    Q2 = 0.0\n",
    "    Q3 = 0.0\n",
    "    Q4 = qmin\n",
    "    V2 = center - 0.5 * deadband\n",
    "    V3 = center + 0.5 * deadband\n",
    "    V1 = V2 - Q1 / slope\n",
    "    V4 = V3 - Q4 / slope\n",
    "    VL = min(V1, 0.95)\n",
    "    VH = max(V4, 1.05)\n",
    "    VTABLE = np.array ([VL, V1, V2, V3, V4, VH])\n",
    "    QTABLE = np.array ([Q1, Q1, Q2, Q3, Q4, Q4])\n",
    "    return VTABLE, QTABLE\n",
    "#print ('Q = [{:7.4f},{:7.4f},{:7.4f},{:7.4f}]'.format (Q1, Q2, Q3, Q4)) \n",
    "#print ('V = [{:7.4f},{:7.4f},{:7.4f},{:7.4f}]'.format (V1, V2, V3, V4))\n",
    "\n",
    "VTABLE, QTABLE = set_characteristic (Vreg, dB, K, 0.44, -0.44)\n",
    "VMIN = VTABLE[0]-0.01\n",
    "VMAX = VTABLE[-1]+0.01\n",
    "\n",
    "v = np.linspace (VMIN, VMAX, 501)\n",
    "q = np.interp (v, VTABLE, QTABLE)"
   ]
  },
  {
   "cell_type": "code",
   "execution_count": null,
   "id": "ea5421a9",
   "metadata": {},
   "outputs": [],
   "source": [
    "%matplotlib widget\n",
    "fig, ax = plt.subplots(1, 1, sharex = 'col', figsize=(6,4), constrained_layout=True)\n",
    "fig.suptitle ('Volt-var characteristic for Vreg={:.3f}, dB={:.3f}, K={:.2f}'.format (Vreg, dB, K))\n",
    "ax.plot(VTABLE, QTABLE, marker='o', color='blue', label='Points')\n",
    "ax.plot (v, q, color='red', label='Interpolated')\n",
    "ax.grid()\n",
    "ax.set_xlabel ('V [pu]')\n",
    "ax.set_ylabel ('Q [pu]')\n",
    "ax.set_xlim (VMIN, VMAX)\n",
    "ax.legend()\n",
    "\n",
    "plt.show()"
   ]
  },
  {
   "cell_type": "code",
   "execution_count": null,
   "id": "61d9f545",
   "metadata": {
    "scrolled": true
   },
   "outputs": [],
   "source": [
    "# approximate voltage change for the Nantucket BESS\n",
    "Sbase = 6.0e6\n",
    "Vbase = 13200.0\n",
    "Zbase = Vbase*Vbase/Sbase\n",
    "R = 1.210 / Zbase # 1.744\n",
    "X = 2.8339 / Zbase # 2.6797\n",
    "dP = 6.0e6 / Sbase\n",
    "dQ = 0.0 / Sbase\n",
    "Vs = 1.0\n",
    "\n",
    "def get_voltage (rpu, xpu, dP, dQ, vspu):\n",
    "    a1 = vspu*vspu + rpu*dP + xpu*dQ\n",
    "    a2 = xpu*dP - rpu*dQ\n",
    "    d = math.sqrt (a1*a1 + a2*a2) / vspu / vspu - 1.0\n",
    "    vpu = vspu + d\n",
    "    return vpu, d\n",
    "\n",
    "vpoc, d = get_voltage (R, X, dP, dQ, Vs)\n",
    "\n",
    "print ('Vpoc = {:.4f} pu, d = {:.4f} pu'.format (vpoc, d))"
   ]
  },
  {
   "cell_type": "markdown",
   "id": "c1d4f34a-680f-4766-a5b9-34bdf824bdb5",
   "metadata": {},
   "source": [
    "# Test"
   ]
  },
  {
   "cell_type": "code",
   "execution_count": null,
   "id": "5ca348b3-2123-4916-a10a-90323d92d9b6",
   "metadata": {},
   "outputs": [],
   "source": [
    "# reset to the starting point\n",
    "VTABLE, QTABLE = set_characteristic (Vreg, dB, K, 0.44, -0.44)\n",
    "\n",
    "VTEST = [(VTABLE[1]+VTABLE[2])/2.0, (VTABLE[3]+VTABLE[4])/2.0]\n",
    "QTEST = np.interp (VTEST, VTABLE, QTABLE)\n",
    "\n",
    "fig, ax = plt.subplots(1, 2, sharex = 'col', figsize=(10,4), constrained_layout=True)\n",
    "fig.suptitle ('AARV test for Tresponse={:.1f}, Tref={:.1f}'.format (Tresponse, Tref))\n",
    "\n",
    "ax[0].set_title ('Characteristic')\n",
    "ax[0].plot (VTABLE, QTABLE, marker='o', color='blue', label='Points')\n",
    "ax[0].plot (VTEST, QTEST, color='red', marker='s', linestyle='None', label='Test')\n",
    "ax[0].set_xlabel ('V [pu]')\n",
    "ax[0].set_xlim (VMIN, VMAX)\n",
    "ax[0].legend()\n",
    "\n",
    "dt = 0.1\n",
    "Tref = 300.0\n",
    "Tresponse = 5.0\n",
    "TauOL = Tresponse / 2.3026\n",
    "IncRef = 1.0 - math.exp(-dt/Tref)\n",
    "IncOL = 1.0 - math.exp(-dt/TauOL)\n",
    "Tmax = 15.0 * Tref\n",
    "\n",
    "t = np.linspace (0, Tmax, int(Tmax / dt) + 1)\n",
    "npts = len(t)\n",
    "v0 = (VTABLE[1]+VTABLE[2])/2.0\n",
    "q0 = np.interp(v0, VTABLE, QTABLE)\n",
    "q = np.zeros(npts)\n",
    "vset = 1.0\n",
    "vref = 1.0\n",
    "Qmax = 0.0\n",
    "#print ('       t      Vpu     Vreg     Verr    Qtarg        Q')\n",
    "for i in range(1, npts):\n",
    "    verr = v0 - vref\n",
    "    vref = vref + verr * IncRef\n",
    "    #qtarg = np.interp (v0 + (vset - vreg), VTABLE, QTABLE)\n",
    "    VTABLE, QTABLE = set_characteristic (vref, deadband=dB, slope=K)\n",
    "    qtarg = np.interp (v0, VTABLE, QTABLE)\n",
    "    q[i] = q[i-1] + (qtarg - q[i-1]) * IncOL\n",
    "    if abs(q[i]) > Qmax:\n",
    "        Qmax = abs(q[i])\n",
    "    #print ('{:8.3f} {:8.5f} {:8.5f} {:8.5f} {:8.5f} {:8.5f}'.format (t[i], v0, vref, verr, qtarg, q[i])) \n",
    "\n",
    "print ('{:d} test points, IncRef={:.6f}, IncOL={:.6f}, Qmax={:.3f}, Qend={:.3f}'.format (npts, IncRef, IncOL, Qmax, q[-1]))\n",
    "\n",
    "ax[1].set_title ('Test Vs={:.3f}, Qs={:.2f} pu'.format (v0, q0))\n",
    "ax[1].plot (t, q, color='red')\n",
    "ax[1].set_xlabel ('t [s]')\n",
    "ax[1].set_xlim (t[0], t[-1])\n",
    "\n",
    "for i in range(2):\n",
    "    ax[i].grid()\n",
    "    ax[i].set_ylabel ('Q [pu]')\n",
    "\n",
    "plt.show()"
   ]
  },
  {
   "cell_type": "code",
   "execution_count": null,
   "id": "bcb40100-7aac-4f9c-95e5-06aa8ca03d88",
   "metadata": {},
   "outputs": [],
   "source": [
    "# reset to the starting point\n",
    "VTABLE, QTABLE = set_characteristic (Vreg, dB, K, 0.44, -0.44)\n",
    "\n",
    "vsrc = np.ones(npts)\n",
    "vpoc = np.ones(npts)\n",
    "p = np.interp(t, [0.0, 0.2, 5.0, t[-1]], [0.0, 0.0, dP, dP])\n",
    "q = np.zeros(npts)\n",
    "vref = np.ones(npts)\n",
    "verr = np.zeros(npts)\n",
    "# this approach resets the V1..V4 points each time Vref changes\n",
    "for i in range(npts-1):\n",
    "    vpoc[i], d = get_voltage (R, X, p[i], q[i], vsrc[i])\n",
    "    verr[i] = vpoc[i] - vref[i]\n",
    "    vref[i+1] = vref[i] + verr[i] * IncRef\n",
    "    VTABLE, QTABLE = set_characteristic (vref[i], deadband=dB, slope=K)\n",
    "    qtarg = np.interp (vpoc[i], VTABLE, QTABLE)\n",
    "    q[i+1] = q[i] + (qtarg - q[i]) * IncOL\n",
    "\n",
    "print ('Ending Vref={:.4f}, IncRef={:.6f}, Maximum Verr={:.4f}'.format (vref[-1], IncRef, np.max(verr)))\n",
    "fig, ax = plt.subplots(1, 2, sharex = 'col', figsize=(10,4), constrained_layout=True)\n",
    "fig.suptitle ('AARV Response for dP={:.3f}, R={:.3f}, X={:.3f}'.format (dP, R, X))\n",
    "ax[0].plot (t, p, label='P')\n",
    "ax[0].plot (t, q, label='Q')\n",
    "ax[1].plot (t, vsrc, label='Vsrc')\n",
    "ax[1].plot (t, vpoc, label='Vpoc')\n",
    "ax[1].plot (t, vref, label='Vref')\n",
    "#ax[1].plot (t, verr, label='Verr')\n",
    "for i in range(2):\n",
    "    ax[i].set_ylabel ('[pu]')\n",
    "    ax[i].set_xlabel ('[s]')\n",
    "    ax[i].set_xlim (t[0], t[-1])\n",
    "    ax[i].legend()\n",
    "    ax[i].grid()\n",
    "plt.show()"
   ]
  },
  {
   "cell_type": "code",
   "execution_count": null,
   "id": "7be2e476-d7cc-4875-9bfb-cd15ca72fe54",
   "metadata": {},
   "outputs": [],
   "source": []
  },
  {
   "cell_type": "code",
   "execution_count": null,
   "id": "362a9cba-9e78-4402-8dd4-d709ea740b99",
   "metadata": {},
   "outputs": [],
   "source": []
  }
 ],
 "metadata": {
  "kernelspec": {
   "display_name": "Python 3 (ipykernel)",
   "language": "python",
   "name": "python3"
  },
  "language_info": {
   "codemirror_mode": {
    "name": "ipython",
    "version": 3
   },
   "file_extension": ".py",
   "mimetype": "text/x-python",
   "name": "python",
   "nbconvert_exporter": "python",
   "pygments_lexer": "ipython3",
   "version": "3.11.4"
  }
 },
 "nbformat": 4,
 "nbformat_minor": 5
}
