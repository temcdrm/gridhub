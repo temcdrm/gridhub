{
 "cells": [
  {
   "cell_type": "markdown",
   "id": "e3e44eb8-a558-4f11-a97e-885d99260cd8",
   "metadata": {},
   "source": [
    "The purpose of autonomously adjusting reference voltage (AARV) is to mitigate rapid voltage change (RVC), without affecting the utility’s control of steady-state voltage or the DER’s steady-state reactive power.  AARV may be used with a volt-watt function that mitigates steady-state overvoltage, but otherwise AARV does not regulate steady-state voltage."
   ]
  },
  {
   "cell_type": "markdown",
   "id": "beebe05e-f2ca-4297-b8c5-8f890ce1b9a2",
   "metadata": {},
   "source": [
    "Page 39 of IEEE 1547-2018 says: _The DER shall be capable of autonomously adjusting reference voltage (VRef) with VRef being equal to the low pass filtered measured voltage. The time constant shall be adjustable at least over the range of 300 s to 5000 s. The voltage-reactive power Volt-Var curve characteristic shall be adjusted autonomously as VRef changes. The approval of the Area EPS operator shall be required for the DER to autonomously adjust the reference voltage. Implementation of the autonomous VRef adjustability and the associated time constant shall be specified by the Area EPS operator._"
   ]
  },
  {
   "cell_type": "markdown",
   "id": "1470d33b-fba6-49ae-9974-6c62e380ad9d",
   "metadata": {},
   "source": [
    "Clause 5.14.5 of IEEE 1547.1-2020 describes a test for AARV. In all other tests, AARV is to be disabled. Four AARV tests are described, at the time constant Tref = 300s and 5000s, each of those with source voltage steps to (V1+V2)/2 and (V3+V4)/2. Before each voltage step, the steady-state reactive power, Q, should be zero at V=Vref. The voltage steps result in step changes of Q to 0.5*Q1 and 0.5*Q4, respectively, with some delay from the open-loop response. These new Q values should follow an exponential decay back to zero, governed by Tref = 300s or 5000s. The test criteria specifies that after one time constant, Tref, the value of Q should be less than 10% of Q1 or Q4, respectively. However, the expected value of Q, following an exponential decay from the stepped value, is Q = 0.5*Q1*exp(-Tref/Tref) = 0.1839*Q1 or 0.1839*Q4. The evaluation criteria at 1*Tref should be 20% instead of 10%.  Note: at 2*Tref, the expected value of Q is 0.0677*Q1 or 0.0677*Q4. This test verifies implementation of Tref, but not the impact of AARV on a system with grid impedance."
   ]
  },
  {
   "cell_type": "markdown",
   "id": "60f818c9-b57d-48fb-8eae-dbefd1dcd019",
   "metadata": {},
   "source": [
    "2019 Conference Paper: https://doi.org/10.1109/PVSC40753.2019.8981277 \n",
    "\n",
    "2023 Conference Paper: https://doi.org/10.1109/PESGM52003.2023.10252317"
   ]
  },
  {
   "cell_type": "code",
   "execution_count": null,
   "id": "7d58f38a",
   "metadata": {},
   "outputs": [],
   "source": [
    "import sys\n",
    "import os\n",
    "import matplotlib.pyplot as plt\n",
    "import numpy as np\n",
    "import math\n",
    "plt.rcParams['savefig.directory'] = os.getcwd()"
   ]
  },
  {
   "cell_type": "markdown",
   "id": "f8e9e760",
   "metadata": {},
   "source": [
    "Run the following cells to generate the plots using [Matplotlib](https://matplotlib.org/)"
   ]
  },
  {
   "cell_type": "code",
   "execution_count": null,
   "id": "94b9ccbc-6308-4c6e-8ebd-bb435985c0b4",
   "metadata": {},
   "outputs": [],
   "source": [
    "dt = 0.1\n",
    "Tref = 300.0\n",
    "Tresponse = 5.0\n",
    "TauOL = Tresponse / 2.3026\n",
    "IncRef = 1.0 - math.exp(dt/Tref)\n",
    "IncOL = 1.0 - math.exp(dt/TauOL)\n",
    "\n",
    "#Verr = Vpu - Vreg\n",
    "#Vreg = Vreg + Verr * IncRef\n",
    "#Qtarg = -K * (V - Vreg) + Qbias # differs from OpenDSS in that it does not iterate\n",
    "#Q = Qlast + (Q - Qlast) * IncOL\n",
    "\n",
    "# plot P, Q, V, Vreg, Vsrc\n",
    "# input Vreg, K, dB, Q1, Q4\n",
    "# calculate Q2 = Q3 = 0\n",
    "Vreg = 1.0\n",
    "dB = 0.02\n",
    "K = 22.0\n",
    "Q1 = 0.44\n",
    "Q2 = 0.0\n",
    "Q3 = 0.0\n",
    "Q4 = -0.44\n",
    "V2 = Vreg - 0.5 * dB\n",
    "V3 = Vreg + 0.5 * dB\n",
    "V1 = V2 - Q1 / K\n",
    "V4 = V3 - Q4 / K\n",
    "VL = min(V1, 0.95)\n",
    "VH = max(V4, 1.05)\n",
    "VTABLE = np.array ([VL, V1, V2, V3, V4, VH])\n",
    "QTABLE = np.array ([Q1, Q1, Q2, Q3, Q4, Q4])\n",
    "VMIN = VL - 0.01\n",
    "VMAX = VH + 0.01\n",
    "print ('Q = [{:7.4f},{:7.4f},{:7.4f},{:7.4f}]'.format (Q1, Q2, Q3, Q4)) \n",
    "print ('V = [{:7.4f},{:7.4f},{:7.4f},{:7.4f}]'.format (V1, V2, V3, V4))\n",
    "\n",
    "v = np.linspace (VMIN, VMAX, 501)\n",
    "q = np.interp (v, VTABLE, QTABLE)"
   ]
  },
  {
   "cell_type": "code",
   "execution_count": null,
   "id": "ea5421a9",
   "metadata": {},
   "outputs": [],
   "source": [
    "%matplotlib widget\n",
    "fig, ax = plt.subplots(1, 1, sharex = 'col', figsize=(6,4), constrained_layout=True)\n",
    "fig.suptitle ('Volt-var characteristic for Vreg={:.3f}, dB={:.3f}, K={:.2f}'.format (Vreg, dB, K))\n",
    "ax.plot(VTABLE, QTABLE, marker='o', color='blue', label='Points')\n",
    "ax.plot (v, q, color='red', label='Interpolated')\n",
    "ax.grid()\n",
    "ax.set_xlabel ('V [pu]')\n",
    "ax.set_ylabel ('Q [pu]')\n",
    "ax.set_xlim (VMIN, VMAX)\n",
    "ax.legend()\n",
    "\n",
    "plt.show()"
   ]
  },
  {
   "cell_type": "code",
   "execution_count": null,
   "id": "61d9f545",
   "metadata": {
    "scrolled": true
   },
   "outputs": [],
   "source": [
    "# approximate voltage change for the Nantucket BESS\n",
    "Vt = 13200.0\n",
    "R = 1.210 # 1.744\n",
    "X = 2.8339 # 2.6797\n",
    "dP = 6.0e6\n",
    "dQ = 0.0\n",
    "a1 = Vt*Vt + R*dP + X*dQ\n",
    "a2 = X*dP - R*dQ\n",
    "d = math.sqrt (a1*a1 + a2*a2) / Vt / Vt - 1.0\n",
    "print ('d = {:.4f} pu'.format (d))"
   ]
  },
  {
   "cell_type": "code",
   "execution_count": null,
   "id": "0cd0be23-1f42-4bc6-87dc-c9acf5e2cb11",
   "metadata": {},
   "outputs": [],
   "source": []
  },
  {
   "cell_type": "code",
   "execution_count": null,
   "id": "5ca348b3-2123-4916-a10a-90323d92d9b6",
   "metadata": {},
   "outputs": [],
   "source": []
  }
 ],
 "metadata": {
  "kernelspec": {
   "display_name": "Python 3 (ipykernel)",
   "language": "python",
   "name": "python3"
  },
  "language_info": {
   "codemirror_mode": {
    "name": "ipython",
    "version": 3
   },
   "file_extension": ".py",
   "mimetype": "text/x-python",
   "name": "python",
   "nbconvert_exporter": "python",
   "pygments_lexer": "ipython3",
   "version": "3.9.6"
  }
 },
 "nbformat": 4,
 "nbformat_minor": 5
}
