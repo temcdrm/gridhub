{
 "cells": [
  {
   "cell_type": "markdown",
   "id": "e3e44eb8-a558-4f11-a97e-885d99260cd8",
   "metadata": {},
   "source": [
    "# Autonomously Adjusting Reference Voltage\n",
    "The purpose of autonomously adjusting reference voltage (AARV) is to mitigate rapid voltage change (RVC), without affecting the utility’s control of steady-state voltage or the DER’s steady-state reactive power.  AARV may be used with a volt-watt function that mitigates steady-state overvoltage, but otherwise AARV does not regulate steady-state voltage."
   ]
  },
  {
   "cell_type": "markdown",
   "id": "beebe05e-f2ca-4297-b8c5-8f890ce1b9a2",
   "metadata": {},
   "source": [
    "Page 39 of IEEE 1547-2018 says: _The DER shall be capable of autonomously adjusting reference voltage (VRef) with VRef being equal to the low pass filtered measured voltage. The time constant shall be adjustable at least over the range of 300 s to 5000 s. The voltage-reactive power Volt-Var curve characteristic shall be adjusted autonomously as VRef changes. The approval of the Area EPS operator shall be required for the DER to autonomously adjust the reference voltage. Implementation of the autonomous VRef adjustability and the associated time constant shall be specified by the Area EPS operator._"
   ]
  },
  {
   "cell_type": "markdown",
   "id": "60f818c9-b57d-48fb-8eae-dbefd1dcd019",
   "metadata": {},
   "source": [
    "## Historical Background\n",
    "\n",
    "AARV was developed in the course of an applied research project on optimal smart inverter settings, which proved sensitive to location and size of the DER (2015 paper). AARV seemed to offer a uniform default setting approach that could be easier to apply for DER, and it was included in IEEE 1547-2018, but not specified as a default. The AARV function was implemented in the *ExpControl* component in *OpenDSS*, but using system parameters like gain, deadband, and reactive power bias instead of the V1..V4 and Q1..Q4 points (2019 paper). A companion notebook on this site shows how the system parameters are translated to the table parameters required in IEEE 1547-2018. In the mitigation of RVC, several examples have shown that AARV outperforms a static volt-var characteristic, with less reactive power needed from the DER (2019, 2023 papers).\n",
    "\n",
    "References:\n",
    "\n",
    "- 2015 Conference Paper: https://doi.org/10.1109/PESGM.2015.7286560\n",
    "\n",
    "- 2019 Conference Paper: https://doi.org/10.1109/PVSC40753.2019.8981277 \n",
    "\n",
    "- 2023 Conference Paper: https://doi.org/10.1109/PESGM52003.2023.10252317"
   ]
  },
  {
   "cell_type": "markdown",
   "id": "cbed5d18-45d7-4b35-abe1-e0b246506e0f",
   "metadata": {},
   "source": [
    "## Code Samples\n",
    "\n",
    "There are Python code cells in this notebook that create plots and text outputs to illustrate various points of application, implementation, and testing. A live version of this notebook is available at [gridhub](https://github.com/temcdrm/gridhub), under an open-source license and copyright that permit reuse and modification. Run the following Python code cell to define support functions using [Numpy](https://numpy.org/) and [Matplotlib](https://matplotlib.org/)"
   ]
  },
  {
   "cell_type": "code",
   "execution_count": null,
   "id": "7d58f38a",
   "metadata": {},
   "outputs": [],
   "source": [
    "import sys\n",
    "import os\n",
    "import matplotlib.pyplot as plt\n",
    "import numpy as np\n",
    "import math\n",
    "\n",
    "# convert center, deadband, slope, q limits, and q bias into a table of V and Q points.\n",
    "# the function returns two arrays for the V and Q points\n",
    "#    the arrays have sentinel elements below V1 and above V4, so they are 6 elements long (not 4)\n",
    "#    the sentinel elements clarify that constant extrapolation is used outside the range [V1..V4]\n",
    "def set_characteristic (center=1.0, deadband=0.0, slope=22.0, qmax=0.44, qmin=-0.44, qbias=0.0):\n",
    "  if qbias > qmax:\n",
    "    qbias = qmax\n",
    "  elif qbias < qmin:\n",
    "    qbias = qmin\n",
    "  Q1 = qmax\n",
    "  Q2 = qbias\n",
    "  Q3 = qbias\n",
    "  Q4 = qmin\n",
    "  V2 = center - 0.5 * deadband\n",
    "  V3 = center + 0.5 * deadband\n",
    "  V1 = V2 - (Q1 - Q2) / slope\n",
    "  V4 = V3 - (Q4 - Q3) / slope\n",
    "  VL = V1 - 0.01\n",
    "  VH = V4 + 0.01\n",
    "  vtable = np.array ([VL, V1, V2, V3, V4, VH])\n",
    "  qtable = np.array ([Q1, Q1, Q2, Q3, Q4, Q4])\n",
    "  return vtable, qtable\n",
    "\n",
    "# This function plots a volt-var characteristic, and returns the VQ points. \n",
    "# (Tabular display is not needed in this notebook.)\n",
    "def show_characteristic (label, center, deadband, slope, qmax, qmin, qbias=0):\n",
    "  vtable, qtable = set_characteristic (center, deadband, slope, qmax, qmin, qbias)\n",
    "  \n",
    "  # bounds for plotting the horizontal axis\n",
    "  vmin = vtable[0]-0.01\n",
    "  vmax = vtable[-1]+0.01\n",
    "  \n",
    "  # evaluate the characteristic over 500 equal voltage intervals\n",
    "  v = np.linspace (vmin, vmax, 501)\n",
    "  # interpolating Q using the numpy library function\n",
    "  q = np.interp (v, vtable, qtable)\n",
    "  \n",
    "  # create the plot\n",
    "  fig, ax = plt.subplots(1, 1, figsize=(6,4), tight_layout=True)\n",
    "  fig.suptitle ('{:s} volt-var characteristic'.format (label))\n",
    "  ax.plot (vtable, qtable, marker='o', color='blue', label='Points and Sentinels')\n",
    "  ax.plot (v, q, color='red', label='Interpolated')\n",
    "  ax.grid ()\n",
    "  ax.set_xlabel ('V [pu]')\n",
    "  ax.set_ylabel ('Q [pu]')\n",
    "  ax.set_xlim (vmin, vmax)\n",
    "  ax.legend ()\n",
    "  \n",
    "  plt.show ()\n",
    "  return vtable, qtable\n",
    "\n",
    "# This function calculates V and dV at the POC from the formula\n",
    "# in clause 5.1.2 of IEEE 1547.2-2023\n",
    "# All input and output in per-unit\n",
    "def get_voltage (rpu, xpu, dP, dQ, vsrcpu):\n",
    "  a1 = vsrcpu*vsrcpu + rpu*dP + xpu*dQ\n",
    "  a2 = xpu*dP - rpu*dQ\n",
    "  d = math.sqrt (a1*a1 + a2*a2) / vsrcpu / vsrcpu - 1.0\n",
    "  vpu = vsrcpu + d\n",
    "  return vpu, d\n",
    "\n",
    "# use the current directory as default location for the \"save plot\" buttons\n",
    "# optimize the graphic export for LaTex and PDF\n",
    "plt.rcParams['savefig.directory'] = os.getcwd()\n",
    "plt.rcParams['savefig.pad_inches'] = 0.05\n",
    "plt.rcParams['savefig.dpi'] = 300.0\n",
    "plt.rcParams['savefig.bbox'] = 'tight'\n",
    "# invoke the Jupyter support for  Matplotlib graphics\n",
    "%matplotlib widget"
   ]
  },
  {
   "cell_type": "markdown",
   "id": "f8e9e760",
   "metadata": {},
   "source": [
    "## Example Data\n",
    "\n",
    "Run the following Python code cell to define and test variables for:\n",
    "\n",
    "- A 6-MW battery energy storage system (BESS) for testing the AARV response to system conditions. At 1 pu source voltage and full power injection, this BESS will create a steady-state voltage of 1.0462 pu at the point of connection. If it turns on suddenly to full power injection, the RVC would be 0.0462 pu, which is greater than the allowed 0.03 pu (3%) at medium voltage. See the 2023 conference paper reference for more details.\n",
    "- A category B volt-var characteristic with maximum allowed slope and zero deadband. See the other notebook, *vqpoints*, for the tabulated V and Q points if needed.\n"
   ]
  },
  {
   "cell_type": "code",
   "execution_count": null,
   "id": "94b9ccbc-6308-4c6e-8ebd-bb435985c0b4",
   "metadata": {},
   "outputs": [],
   "source": [
    "# GLOBAL variables for the Nantucket BESS example; only the volt-var parameters will change in the notebook examples\n",
    "SBASE = 6.0e6\n",
    "VBASE = 13200.0\n",
    "ZBASE = VBASE*VBASE/SBASE\n",
    "RPU = 1.210 / ZBASE # 1.744\n",
    "XPU = 2.8339 / ZBASE # 2.6797\n",
    "DP = 6.0e6 / SBASE\n",
    "DQ = 0.0 / SBASE\n",
    "VSRC = 1.0\n",
    "\n",
    "vpoc, d = get_voltage (RPU, XPU, DP, DQ, VSRC)\n",
    "\n",
    "print ('Nantucket BESS example for dP={:.3f}, dQ={:.3f}, R={:.3f}, X={:.3f} pu: Vpoc={:.4f}, dV={:.4f} pu'.format (DP, DQ, RPU, XPU, vpoc, d))\n",
    "# pseudo-code from OpenDSS\n",
    "#Verr = Vpu - Vreg\n",
    "#Vreg = Vreg + Verr * IncRef\n",
    "#Qtarg = -K * (V - Vreg) + Qbias # differs from OpenDSS in that it does not iterate\n",
    "#Q = Qlast + (Q - Qlast) * IncOL\n",
    "\n",
    "# plot the default characteristic used for AARV examples\n",
    "vtable, qtable = show_characteristic ('AARV Category B', center=1, deadband=0, slope=22, qmax=0.44, qmin=-0.44)"
   ]
  },
  {
   "cell_type": "markdown",
   "id": "c1d4f34a-680f-4766-a5b9-34bdf824bdb5",
   "metadata": {},
   "source": [
    "## AARV Test from 1547.1-2020\n",
    "\n",
    "Clause 5.14.5 of IEEE 1547.1-2020 describes a test for AARV. In all other tests, AARV is to be disabled. Four AARV tests are described, at the time constant values *Tref* = 300s and 5000s, each of those with source voltage steps to (V1+V2)/2 and (V3+V4)/2. Before each voltage step, the steady-state reactive power, Q, should be zero at V=Vref. \n",
    "\n",
    "The voltage steps result in step changes of Q to 0.5\\*Q1 and 0.5\\*Q4, respectively, with some delay from the open-loop response. These new Q values should follow an exponential decay back to zero, governed by *Tref* = 300s or 5000s. The test criteria specifies that after one time constant, *Tref*, the value of Q should be less than 10% of Q1 or Q4, respectively. However, the expected value of Q, following an exponential decay from the stepped value, is Q = 0.5\\*Q1\\*exp(-Tref/Tref) = 0.1839\\*Q1 or 0.1839\\*Q4. **The evaluation criteria at 1\\*Tref should be 20% instead of 10% of Q1 or Q4**.  Note: at 2\\*Tref, the expected value of Q is 0.0677\\*Q1 or 0.0677\\*Q4.\n",
    "\n",
    "*Tref* is defined as the time constant for AARV reference voltage. On the other hand, *Tresponse* is defined as an open-loop response time, which is converted to an exponential time constant in the Python code below. Furthermore, the simulation is run at a constant time step, *dt*, so both time constants may be implemented as constant decrement factors. If the real controller operates at a constant sample interval, it may also use constant decrement factors to save the time of repeatedly evaluating the exponential functions.\n",
    "\n",
    "Passing this test verifies implementation of *Tref*, but not the impact of AARV on a system with grid impedance.\n",
    "\n",
    "### Simulation of AARV Tests\n",
    "\n",
    "Run the following Python code cell to define a function that simulates and plots an AARV test. The input parameters are:\n",
    "\n",
    "- *tag* is a text label to appear in the plot\n",
    "- *Vreg*, *dB*, *K*, *Qmax*, and *Qmin* are the system parameters to define the volt-var characteristic\n",
    "- *Tref* is the AARV time constant, which ranges from 300s to 5000s. The default in IEEE 1547 is 300s.\n",
    "- *Tresponse* is the open-loop response time, which ranges from 1s to 90s. The default in IEEE 1547 is 10s for category A and 5s for category B.\n",
    "- *dt* is the time step for simulation and plotting.\n",
    "- *bShiftTable* is a flag to choose between two different implementations of AARV:\n",
    "    - *True* means that the V1..V4 points in the volt-var characteristic are shifted each time *VRef* changes. This procedure strictly follows language in the footnote in IEEE 1547-2018, and it performs as intended in simulation. However, it's not efficient and it may lose track of the original settings for V1..V4.\n",
    "    - *False* means that instead of modifying V1..V4, the voltage used for interpolation is adjusted with an offset to the center point, *v0*. This also performs as intended, without regenerating the interpolation table at each time step, and without losing track of the original settings for V1..V4. In the Python function signature, the default value is *False* to indicate that this might be the preferred implementation. (It is also how *OpenDSS* implements AARV).\n",
    " \n",
    "The function runs for one time constant, *Tref*, and it provides numerical outputs of the peak and final Q."
   ]
  },
  {
   "cell_type": "code",
   "execution_count": null,
   "id": "5ca348b3-2123-4916-a10a-90323d92d9b6",
   "metadata": {},
   "outputs": [],
   "source": [
    "def show_aarv_test (tag, Vreg, dB, K, Qmax, Qmin, Tref, Tresponse, dt, bShiftTable=False):\n",
    "  TauOL = Tresponse / 2.3026\n",
    "  IncRef = 1.0 - math.exp(-dt/Tref)\n",
    "  IncOL = 1.0 - math.exp(-dt/TauOL)\n",
    "  vtable, qtable = set_characteristic (Vreg, dB, K, Qmax, Qmin)\n",
    "\n",
    "  vtest = [(vtable[1]+vtable[2])/2.0, (vtable[3]+vtable[4])/2.0]\n",
    "  qtest = np.interp (vtest, vtable, qtable)\n",
    "\n",
    "  tmax = 1.0 * Tref\n",
    "  t = np.linspace (0, tmax, int(tmax / dt) + 1)\n",
    "  npts = len(t)\n",
    "  v0 = (vtable[1]+vtable[2])/2.0\n",
    "  q0 = np.interp(v0, vtable, qtable)\n",
    "  q = np.zeros(npts)\n",
    "  vset = 1.0\n",
    "  vref = 1.0\n",
    "  qpeak = 0.0\n",
    "  #print ('       t      Vpu     Vreg     Verr    Qtarg        Q')\n",
    "  if bShiftTable: # this approach resets the V1..V4 points each time Vref changes\n",
    "    for i in range(1, npts):\n",
    "      verr = v0 - vref\n",
    "      vref = vref + verr * IncRef\n",
    "      vtable, qtable = set_characteristic (center=vref, deadband=dB, slope=K, qmax=Qmax, qmin=Qmin)\n",
    "      qtarg = np.interp (v0, vtable, qtable)\n",
    "      q[i] = q[i-1] + (qtarg - q[i-1]) * IncOL\n",
    "      if abs(q[i]) > qpeak:\n",
    "        qpeak = abs(q[i])\n",
    "  else: # this approach modifies the voltage entry point\n",
    "    for i in range(1, npts):\n",
    "      verr = v0 - vref\n",
    "      vref = vref + verr * IncRef\n",
    "      qtarg = np.interp (v0 + (vset - vref), vtable, qtable)\n",
    "      q[i] = q[i-1] + (qtarg - q[i-1]) * IncOL\n",
    "      if abs(q[i]) > qpeak:\n",
    "        qpeak = abs(q[i])\n",
    "    #print ('{:8.3f} {:8.5f} {:8.5f} {:8.5f} {:8.5f} {:8.5f}'.format (t[i], v0, vref, verr, qtarg, q[i])) \n",
    "\n",
    "#  print ('{:d} test points, IncRef={:.6f}, IncOL={:.6f}, Qpeak={:.3f}, Qend={:.3f}'.format (npts, IncRef, IncOL, qpeak, q[-1]))\n",
    "\n",
    "  fig, ax = plt.subplots(1, 2, sharex = 'col', figsize=(10,4), constrained_layout=True)\n",
    "  fig.suptitle ('1547.1-2020 AARV test, {:s}, Tref={:.1f}, Tresponse={:.1f}, Voltage Step to Vs={:.3f}'.format (tag, Tref, Tresponse, v0))\n",
    "\n",
    "  ax[0].set_title ('Characteristic, K={:.2f}, dB={:.2f}, Qmax={:.2f}'.format (K, dB, Qmax))\n",
    "  # remove any shift of vtable, qtable that might have been done while simulating the test\n",
    "  vtable, qtable = set_characteristic (Vreg, dB, K, Qmax, Qmin)\n",
    "  ax[0].plot (vtable, qtable, marker='o', color='blue', label='Points and Sentinels')\n",
    "  ax[0].plot (vtest, qtest, color='red', marker='s', linestyle='None', label='Test Conditions')\n",
    "  ax[0].set_xlabel ('V [pu]')\n",
    "  ax[0].set_xlim (vtable[0]-0.01, vtable[-1]+0.01)\n",
    "  ax[0].legend()\n",
    "\n",
    "  ax[1].set_title ('Peak Q={:.4f}, Final Q={:.4f} pu'.format (qpeak, q[-1]))\n",
    "  ax[1].plot (t, q, color='red', label='Dynamic')\n",
    "  ax[1].plot (t, q0*np.ones(npts), color='blue', label='Qs={:.3f}'.format(q0))\n",
    "  ax[1].set_xlabel ('t [s]')\n",
    "  ax[1].set_xlim (t[0], t[-1])\n",
    "\n",
    "  for i in range(2):\n",
    "    ax[1].legend()\n",
    "    ax[i].grid()\n",
    "    ax[i].set_ylabel ('Q [pu]')\n",
    "\n",
    "  plt.show()"
   ]
  },
  {
   "cell_type": "markdown",
   "id": "b63b811d-e133-4948-9926-df94c8cfc94d",
   "metadata": {},
   "source": [
    "### Examples of AARV Tests\n",
    "\n",
    "Run the following Python code cell to run five example AARV tests.\n",
    "\n",
    "- The first example simulates one AARV test, for the step to (V1+V2)/2, and category B with maximum allowed slope and no deadband. The steady-state value of Q at this voltage would be 0.22 pu, but it only reaches 0.2122 pu due to the open-loop response time constant. The value of Q at *Tref* is 0.0815 pu, which is 18.52% of Q1. (Due to the open-loop response, this is higher than the static expected value of 18.39% at t=Tref).\n",
    "- The second example repeats the first AARV test with *bShiftTable=True*, and the results match.\n",
    "- The third example shows an AARV test for category A at maximum slope, and the longer default open-loop *Tresponse* for category A. The value of *Qpeak* is 93.92% of *Qs*, compared to 96.45% of *Qs* in the previous two examples, due to the longer open-loop response time. The final value of Q is 18.68% of Q1.\n",
    "- The fourth example shows an AARV test for category B at minimum open-loop *Tresponse*. The value of *Qpeak* is 99.05% of *Qs* and the final value of Q is 18.41% of Q1.\n",
    "- The fifth example shows an AARV test for category B at maximum open-loop *Tresponse*. The value of *Qpeak* is 73.68% of *Qs* and the final value of Q is 21.11% of Q1.\n",
    "\n",
    "From these results, *Tresponse* in the range 1s to 10s might be preferrable to longer times."
   ]
  },
  {
   "cell_type": "code",
   "execution_count": null,
   "id": "2334ddcb-4426-4d1f-897c-8b6d2ada857f",
   "metadata": {},
   "outputs": [],
   "source": [
    "show_aarv_test ('cat B', Vreg=1, dB=0, K=22, Qmax=0.44, Qmin=-0.44, Tref=300, Tresponse=5, dt=0.1)  # for most aggressive category B\n",
    "show_aarv_test ('cat B (shifting table)', Vreg=1, dB=0, K=22, Qmax=0.44, Qmin=-0.44, Tref=300, Tresponse=5, dt=0.1, bShiftTable=True)  # for most aggressive category B\n",
    "show_aarv_test ('cat A', Vreg=1, dB=0, K=12.5, Qmax=0.25, Qmin=-0.25, Tref=300, Tresponse=10, dt=0.1) # for most aggressive category A\n",
    "show_aarv_test ('cat B fast', Vreg=1, dB=0, K=22, Qmax=0.44, Qmin=-0.44, Tref=300, Tresponse=1, dt=0.1)  # category B with lowest Tresponse\n",
    "show_aarv_test ('cat B slow', Vreg=1, dB=0, K=22, Qmax=0.44, Qmin=-0.44, Tref=300, Tresponse=90, dt=0.1) # category B with highest Tresponse"
   ]
  },
  {
   "cell_type": "markdown",
   "id": "7069b4e7-6172-499e-a556-2a7beff5f4f7",
   "metadata": {},
   "source": [
    "## AARV Response to Storage Power-On Ramping\n",
    "\n",
    "Run the following Python code cell to define a simulation of full power-on events of the example 6-MW BESS with AARV. Compared to the *show_aarv_test* function, new input parameters are:\n",
    "\n",
    "- *numTrefs* determines how long to run the simulation. As the terminal voltage changes, it may take longer than expected for the DER's reactive power to settle.\n",
    "- *RampTime* defines the steepness of the power ramp. In *show_aarv_test*, the source voltage changes in a single time step, e.g., in 100 ms. Because the open loop response time ranges from 1s to 90s, the BESS reactive power could not respond effectively to faster ramps in power, whether or not AARV is enabled.\n",
    "- *Qbias* allows for a non-zero steady-state reactive power"
   ]
  },
  {
   "cell_type": "code",
   "execution_count": null,
   "id": "bcb40100-7aac-4f9c-95e5-06aa8ca03d88",
   "metadata": {},
   "outputs": [],
   "source": [
    "def show_bess_test (tag, Vreg, dB, K, Qmax, Qmin, Tref, Tresponse, dt=0.1, numTrefs=1, RampTime=5, bShiftTable=False, Qbias=0.0):\n",
    "  TauOL = Tresponse / 2.3026\n",
    "  if Tref > 0.0:\n",
    "    IncRef = 1.0 - math.exp(-dt/Tref)\n",
    "    tmax = numTrefs * Tref\n",
    "  else: # Tref equal to zero disables AARV\n",
    "    IncRef = 0.0\n",
    "    tmax = 300.0\n",
    "  IncOL = 1.0 - math.exp(-dt/TauOL)\n",
    "  vtable, qtable = set_characteristic (Vreg, dB, K, Qmax, Qmin, Qbias)\n",
    "\n",
    "  t = np.linspace (0, tmax, int(tmax / dt) + 1)\n",
    "  npts = len(t)\n",
    "\n",
    "  vsrc = np.ones(npts)\n",
    "  vpoc = np.ones(npts)\n",
    "  pstart = 1.0\n",
    "  # create a linear ramp in real power\n",
    "  pend = pstart + RampTime\n",
    "  p = np.interp(t, [0.0, pstart, pend, t[-1]], [0.0, 0.0, DP, DP])\n",
    "\n",
    "  q = np.zeros(npts)\n",
    "  vref = np.ones(npts)\n",
    "  verr = np.zeros(npts)\n",
    "  \n",
    "  for i in range(npts-1):\n",
    "    vpoc[i], d = get_voltage (RPU, XPU, p[i], q[i], vsrc[i])\n",
    "    verr[i] = vpoc[i] - vref[i]\n",
    "    vref[i+1] = vref[i] + verr[i] * IncRef\n",
    "    # limiting vref to allowable range\n",
    "    if vref[i+1] > 1.05:\n",
    "      vref[i+1] = 1.05\n",
    "    elif vref[i+1] < 0.95:\n",
    "      vref[i+1] = 0.95\n",
    "    if bShiftTable: # this approach resets the V1..V4 points each time Vref changes\n",
    "      vtable, qtable = set_characteristic (vref[i], deadband=dB, slope=K, qmax=Qmax, qmin=Qmin)\n",
    "      qtarg = np.interp (vpoc[i], vtable, qtable)\n",
    "    else: # this approach modifies the voltage entry point\n",
    "      qtarg = np.interp (Vreg + verr[i], vtable, qtable)\n",
    "    q[i+1] = q[i] + (qtarg - q[i]) * IncOL\n",
    "  # solve for the last point in the time series\n",
    "  vpoc[-1], d = get_voltage (RPU, XPU, p[-1], q[-1], vsrc[-1])\n",
    "  verr[-1] = vpoc[-1] - vref[-1]\n",
    "\n",
    "  fig, ax = plt.subplots(1, 2, sharex = 'col', figsize=(10,4), constrained_layout=True)\n",
    "  fig.suptitle ('Time Response for {:s}, Max Verr={:.4f}, Final Vref={:.4f}, Final Vpoc={:.4f}'.format (tag, np.max(verr), vref[-1], vpoc[-1]))\n",
    "  ax[0].plot (t, p, label='P')\n",
    "  ax[0].plot (t, q, label='Q')\n",
    "  ax[1].plot (t, vsrc, label='Vsrc')\n",
    "  ax[1].plot (t, vpoc, label='Vpoc')\n",
    "  ax[1].plot (t, vref, label='Vref')\n",
    "  #ax[1].plot (t, verr, label='Verr')\n",
    "  for i in range(2):\n",
    "    ax[i].set_ylabel ('[pu]')\n",
    "    ax[i].set_xlabel ('[s]')\n",
    "    ax[i].set_xlim (t[0], t[-1])\n",
    "    ax[i].legend()\n",
    "    ax[i].grid()\n",
    "  plt.show()"
   ]
  },
  {
   "cell_type": "markdown",
   "id": "80cec98c-30e7-4d1f-8665-dfd75cfa4603",
   "metadata": {},
   "source": [
    "## AARV Category B: Effect of Open-Loop Response\n",
    "\n",
    "Run the following Python code cell to show these examples, with a 5s ramp in real power at the BESS:\n",
    "\n",
    "- *1s* (minimum allowed)\n",
    "- *5s* (category B default)\n",
    "- *10s* (category A default)"
   ]
  },
  {
   "cell_type": "code",
   "execution_count": null,
   "id": "e615fa1f-4eef-47c4-b39f-53cbf1c7668e",
   "metadata": {},
   "outputs": [],
   "source": [
    "for tr in [1.0, 5.0, 10.0]:\n",
    "  tag = 'AARV B, 5s Ramp, Tresponse={:.1f}s'.format (tr)\n",
    "  show_bess_test (tag, Vreg=1, dB=0, K=22, Qmax=0.44, Qmin=-0.44, Tref=300, Tresponse=tr, dt=0.1, numTrefs=1.0, RampTime=5.0)"
   ]
  },
  {
   "cell_type": "markdown",
   "id": "b662d550-53c5-4452-abf6-233301ceec62",
   "metadata": {},
   "source": [
    "## AARV Category A: Effect of Open-Loop Response\n",
    "\n",
    "Run the following Python code cell to show these examples, with a 5s ramp in real power at the BESS:\n",
    "\n",
    "- *1s* (minimum allowed)\n",
    "- *5s* (category B default)\n",
    "- *10s* (category A default)"
   ]
  },
  {
   "cell_type": "code",
   "execution_count": null,
   "id": "2e1cf987-a4bd-4efb-ad16-b491dc0374b2",
   "metadata": {},
   "outputs": [],
   "source": [
    "for tr in [1.0, 5.0, 10.0]:\n",
    "  tag = 'AARV A, 5s Ramp, Tresponse={:.1f}s'.format (tr)\n",
    "  show_bess_test (tag, Vreg=1, dB=0, K=12.5, Qmax=0.25, Qmin=-0.25, Tref=300, Tresponse=tr, dt=0.1, numTrefs=1.0, RampTime=5.0)\n"
   ]
  },
  {
   "cell_type": "markdown",
   "id": "6f4d4c76-5b69-4b14-a356-922acc8d17b2",
   "metadata": {},
   "source": [
    "## Examples with No Volt-Var Response\n",
    "\n",
    "Run the following Python code cell to show the effect of setting *Qmax* and *Qmin* to zero, so the DER cannot supply or absorb reactive power.\n",
    "\n",
    "- *With Table Shift*\n",
    "- *Without Table Shift*"
   ]
  },
  {
   "cell_type": "code",
   "execution_count": null,
   "id": "c5962535-a676-4fef-a4a2-ea28cfd1cf45",
   "metadata": {},
   "outputs": [],
   "source": [
    "show_bess_test ('5s Ramp, No Volt-Var', Vreg=1, dB=0, K=22, Qmax=0, Qmin=0, Tref=300, Tresponse=5, dt=0.1, numTrefs=1.0, RampTime=5.0, bShiftTable=True)\n",
    "show_bess_test ('5s Ramp, No Volt-Var', Vreg=1, dB=0, K=22, Qmax=0, Qmin=0, Tref=300, Tresponse=5, dt=0.1, numTrefs=1.0, RampTime=5.0, bShiftTable=False)"
   ]
  },
  {
   "cell_type": "markdown",
   "id": "f15650f4-6212-493f-b217-04c2536d8cd7",
   "metadata": {},
   "source": [
    "## Long-Running Examples\n",
    "\n",
    "Run the following Python code cell to show the long decay of DER reactive power when the terminal voltage is not constant.\n",
    "\n",
    "- *With Table Shift*\n",
    "- *Without Table Shift*"
   ]
  },
  {
   "cell_type": "code",
   "execution_count": null,
   "id": "1553ce1d-82fc-4765-b466-2e6aeba9e051",
   "metadata": {},
   "outputs": [],
   "source": [
    "show_bess_test ('Q decay', Vreg=1, dB=0, K=22, Qmax=0.44, Qmin=-0.44, Tref=300, Tresponse=5, dt=0.1, numTrefs=10.0, RampTime=5.0, bShiftTable=True)\n",
    "show_bess_test ('Q decay', Vreg=1, dB=0, K=22, Qmax=0.44, Qmin=-0.44, Tref=300, Tresponse=5, dt=0.1, numTrefs=10.0, RampTime=5.0, bShiftTable=False)"
   ]
  },
  {
   "cell_type": "markdown",
   "id": "52e9dcd1-c6dd-4d16-9d11-d533e4c1dbee",
   "metadata": {},
   "source": [
    "## Effect of Power Ramp Time\n",
    "\n",
    "Run the following Python code cell to show the effect of Power ramping time, when the open-loop response is held constant at 5s."
   ]
  },
  {
   "cell_type": "code",
   "execution_count": null,
   "id": "ec37670f-4a59-491c-b6da-4cec0b90ceab",
   "metadata": {},
   "outputs": [],
   "source": [
    "for tramp in [0.1, 1.0, 5.0, 10.0]:\n",
    "  tag = 'AARV B, {:.1f}s Ramp, Tresponse=5s'.format (tramp)\n",
    "  show_bess_test (tag, Vreg=1, dB=0, K=22, Qmax=0.44, Qmin=-0.44, Tref=300, Tresponse=5.0, dt=0.1, numTrefs=1.0, RampTime=tramp)"
   ]
  },
  {
   "cell_type": "markdown",
   "id": "34f60228-1d7f-4311-a985-081be9001798",
   "metadata": {},
   "source": [
    "## AARV Response to Grid Voltage Fluctuations\n",
    "\n",
    "Run the following Python code cell to define a simulation of voltage source fluctuations on the example 6-MW BESS with AARV. A new input parameter is:\n",
    "\n",
    "- *Vref* initializes the reference point for AARV, in the case when DER real (and reactive) power might not be zero.\n",
    "\n",
    "The source voltage fluctuation lasts for 12 AARV time constants, and it follows a trapezoidal shape with magnitude +/- 0.02 per-unit."
   ]
  },
  {
   "cell_type": "code",
   "execution_count": null,
   "id": "7be2e476-d7cc-4875-9bfb-cd15ca72fe54",
   "metadata": {},
   "outputs": [],
   "source": [
    "def show_vsrc_test (tag, Vreg, dB, K, Qmax, Qmin, Tref, Tresponse, dt=0.1, Vref=1.0, bShiftTable=False, Qbias=0.0):\n",
    "  TauOL = Tresponse / 2.3026\n",
    "  if Tref > 0.0:\n",
    "    IncRef = 1.0 - math.exp(-dt/Tref)\n",
    "  else:\n",
    "    IncRef = 0.0\n",
    "    Tref = 300.0\n",
    "  IncOL = 1.0 - math.exp(-dt/TauOL)\n",
    "  vtable, qtable = set_characteristic (Vreg, dB, K, Qmax, Qmin, Qbias)\n",
    "\n",
    "  tmax = 12.0 * Tref\n",
    "  t = np.linspace (0, tmax, int(tmax / dt) + 1)\n",
    "  npts = len(t)\n",
    "\n",
    "  vsrc = np.interp (t, [0.0, 2*Tref, 3*Tref, 5*Tref, 7*Tref, 9*Tref, 10*Tref, t[-1]], \n",
    "                       [1.0, 1.0,    1.02,   1.02,   0.98,   0.98,   1.0,     1.0])\n",
    "  vpoc = np.ones(npts)\n",
    "  p = DP * np.ones(npts)\n",
    "  q = np.zeros(npts)\n",
    "  vref = Vref * np.ones(npts)\n",
    "  verr = np.zeros(npts)\n",
    "  for i in range(npts-1):\n",
    "    vpoc[i], d = get_voltage (RPU, XPU, p[i], q[i], vsrc[i])\n",
    "    verr[i] = vpoc[i] - vref[i]\n",
    "    vref[i+1] = vref[i] + verr[i] * IncRef\n",
    "    # limiting vref to allowable range\n",
    "    if vref[i+1] > 1.05:\n",
    "      vref[i+1] = 1.05\n",
    "    elif vref[i+1] < 0.95:\n",
    "      vref[i+1] = 0.95\n",
    "    if bShiftTable: # this approach resets the V1..V4 points each time Vref changes\n",
    "      vtable, qtable = set_characteristic (vref[i], deadband=dB, slope=K, qmax=Qmax, qmin=Qmin)\n",
    "      qtarg = np.interp (vpoc[i], vtable, qtable)\n",
    "    else: # this approach modifies the voltage entry point\n",
    "      qtarg = np.interp (Vreg + verr[i], vtable, qtable)\n",
    "    q[i+1] = q[i] + (qtarg - q[i]) * IncOL\n",
    "  # solve for the last point in the time series\n",
    "  vpoc[-1], d = get_voltage (RPU, XPU, p[-1], q[-1], vsrc[-1])\n",
    "  verr[-1] = vpoc[-1] - vref[-1]\n",
    "  \n",
    "  fig, ax = plt.subplots(1, 2, sharex = 'col', figsize=(10,4), constrained_layout=True)\n",
    "  fig.suptitle ('Vsrc Fluctuation Response for {:s}, Max Vref={:.4f}, Vpoc[Min,Max,Final]=[{:.4f},{:.4f},{:.4f}]'.format (tag, np.max(vref), np.min(vpoc), np.max(vpoc), vpoc[-1]))\n",
    "  ax[0].plot (t, p, label='P')\n",
    "  ax[0].plot (t, q, label='Q')\n",
    "  ax[1].plot (t, vsrc, label='Vsrc')\n",
    "  ax[1].plot (t, vpoc, label='Vpoc')\n",
    "  ax[1].plot (t, vref, label='Vref')\n",
    "  #ax[1].plot (t, verr, label='Verr')\n",
    "  for i in range(2):\n",
    "    ax[i].set_ylabel ('[pu]')\n",
    "    ax[i].set_xlabel ('[s]')\n",
    "    ax[i].set_xlim (t[0], t[-1])\n",
    "    ax[i].legend()\n",
    "    ax[i].grid()\n",
    "  plt.show()\n"
   ]
  },
  {
   "cell_type": "markdown",
   "id": "8aef141f-a9dc-4055-bd51-001d6797d84d",
   "metadata": {},
   "source": [
    "## Vsrc Fluctuations at Full Power Output\n",
    "\n",
    "Run the following Python code cell to show the effect of voltage source fluctuations, when the steady-state terminal voltage is already 1.0459 pu."
   ]
  },
  {
   "cell_type": "code",
   "execution_count": null,
   "id": "079daf27-d712-4b78-a57e-bc9d4a9f8666",
   "metadata": {},
   "outputs": [],
   "source": [
    "\n",
    "show_vsrc_test ('AARV B (shifting table)', Vreg=1, dB=0, K=22, Qmax=0.44, Qmin=-0.44, Tref=300, Tresponse=5, dt=0.1, Vref=1.0459, bShiftTable=True)\n",
    "show_vsrc_test ('AARV B', Vreg=1, dB=0, K=22, Qmax=0.44, Qmin=-0.44, Tref=300, Tresponse=5, dt=0.1, Vref=1.0459, bShiftTable=False)\n",
    "show_vsrc_test ('AARV A', Vreg=1, dB=0, K=12.5, Qmax=0.25, Qmin=-0.25, Tref=300, Tresponse=5, dt=0.1, Vref=1.0459)"
   ]
  },
  {
   "cell_type": "markdown",
   "id": "6b5e71c3-1bec-42c9-8ccc-69b64ff37a07",
   "metadata": {},
   "source": [
    "## Static Volt-Var Response to Storage Power-On Ramping\n",
    "\n",
    "Run the following Python code cell to show the impact of BESS power-on transients, with no AARV:\n",
    "\n",
    "- *Aggressive Category B*\n",
    "- *Default Category B*\n",
    "- *Aggressive Category A*\n",
    "- *Default Category A*\n",
    "- *Hawaii Rule 14H*"
   ]
  },
  {
   "cell_type": "code",
   "execution_count": null,
   "id": "362a9cba-9e78-4402-8dd4-d709ea740b99",
   "metadata": {},
   "outputs": [],
   "source": [
    "show_bess_test ('Agg B, No AARV', Vreg=1, dB=0, K=22, Qmax=0.44, Qmin=-0.44, Tref=0, Tresponse=5)\n",
    "show_bess_test ('Def B, No AARV', Vreg=1, dB=0.04, K=22.0/3.0, Qmax=0.44, Qmin=-0.44, Tref=0, Tresponse=5)\n",
    "show_bess_test ('Agg A, No AARV', Vreg=1, dB=0, K=12.5, Qmax=0.25, Qmin=-0.25, Tref=0, Tresponse=5)\n",
    "show_bess_test ('Def A, No AARV', Vreg=1, dB=0, K=2.50, Qmax=0.25, Qmin=-0.25, Tref=0, Tresponse=5)\n",
    "show_bess_test ('HI 14H, No AARV', Vreg=1, dB=0.06, K=43.0/3.0, Qmax=0.44, Qmin=-0.44, Tref=0, Tresponse=5)"
   ]
  },
  {
   "cell_type": "markdown",
   "id": "a1dcfb4c-ac7d-4309-9a7c-bc7c0f90a780",
   "metadata": {},
   "source": [
    "## Static Volt-Var Response to Grid Voltage Fluctuations\n",
    "\n",
    "Run the following Python code cell to show the impact of source voltage transients, with no AARV:\n",
    "\n",
    "- *Aggressive Category B*\n",
    "- *Default Category B*\n",
    "- *Aggressive Category A*\n",
    "- *Default Category A*\n",
    "- *Hawaii Rule 14H*"
   ]
  },
  {
   "cell_type": "code",
   "execution_count": null,
   "id": "2f966cdd-f918-434b-b83b-2d5cec6c3fc0",
   "metadata": {},
   "outputs": [],
   "source": [
    "show_vsrc_test ('Agg B, No AARV', Vreg=1, dB=0, K=22, Qmax=0.44, Qmin=-0.44, Tref=0, Tresponse=5)\n",
    "show_vsrc_test ('Def B, No AARV', Vreg=1, dB=0.04, K=22.0/3.0, Qmax=0.44, Qmin=-0.44, Tref=0, Tresponse=5)\n",
    "show_vsrc_test ('Agg A, No AARV', Vreg=1, dB=0, K=12.5, Qmax=0.25, Qmin=-0.25, Tref=0, Tresponse=5)\n",
    "show_vsrc_test ('Def A, No AARV', Vreg=1, dB=0, K=2.50, Qmax=0.25, Qmin=-0.25, Tref=0, Tresponse=5)\n",
    "show_vsrc_test ('HI 14H, No AARV', Vreg=1, dB=0.06, K=43.0/3.0, Qmax=0.44, Qmin=-0.44, Tref=0, Tresponse=5)"
   ]
  },
  {
   "cell_type": "markdown",
   "id": "917363d4-5584-4f32-af44-2b7201214e84",
   "metadata": {},
   "source": [
    "## Reactive Power Bias with AARV\n",
    "\n",
    "Run the following Python code cell to find the terminal voltage, when the BESS absorbs -0.1 pu reactive power. This voltage is 1.0369 pu, compared to 1.0462 pu at zero reactive power."
   ]
  },
  {
   "cell_type": "code",
   "execution_count": null,
   "id": "a7371cdf-b158-49da-b522-5e9f2064fd1a",
   "metadata": {},
   "outputs": [],
   "source": [
    "DQ = -0.1\n",
    "vpoc, d = get_voltage (RPU, XPU, DP, DQ, VSRC)\n",
    "print ('Nantucket BESS example for dP={:.3f}, dQ={:.3f}, R={:.3f}, X={:.3f} pu: Vpoc={:.4f}, dV={:.4f} pu'.format (DP, DQ, RPU, XPU, vpoc, d))"
   ]
  },
  {
   "cell_type": "markdown",
   "id": "ee74feb7-aa93-43e0-9d79-f9360c1aae34",
   "metadata": {},
   "source": [
    "Run the following Python code cell to simulate a source voltage fluctation under this condition."
   ]
  },
  {
   "cell_type": "code",
   "execution_count": null,
   "id": "515969c4-af1f-4a50-a89d-c12902aaf6c3",
   "metadata": {},
   "outputs": [],
   "source": [
    "show_vsrc_test ('Agg B with Qbias', Vreg=1, dB=0, K=22, Qmax=0.44, Qmin=-0.44, Tref=300, Tresponse=5, Vref=1.0369, Qbias=-0.1)"
   ]
  },
  {
   "cell_type": "code",
   "execution_count": null,
   "id": "5e2d0635-7ceb-4468-8502-9d6991b696ed",
   "metadata": {},
   "outputs": [],
   "source": []
  }
 ],
 "metadata": {
  "kernelspec": {
   "display_name": "Python 3 (ipykernel)",
   "language": "python",
   "name": "python3"
  },
  "language_info": {
   "codemirror_mode": {
    "name": "ipython",
    "version": 3
   },
   "file_extension": ".py",
   "mimetype": "text/x-python",
   "name": "python",
   "nbconvert_exporter": "python",
   "pygments_lexer": "ipython3",
   "version": "3.11.4"
  }
 },
 "nbformat": 4,
 "nbformat_minor": 5
}
